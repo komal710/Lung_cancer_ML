{
 "cells": [
  {
   "cell_type": "code",
   "execution_count": 1,
   "metadata": {
    "_cell_guid": "b1076dfc-b9ad-4769-8c92-a6c4dae69d19",
    "_uuid": "8f2839f25d086af736a60e9eeb907d3b93b6e0e5",
    "execution": {
     "iopub.execute_input": "2022-04-12T02:20:25.856422Z",
     "iopub.status.busy": "2022-04-12T02:20:25.855286Z",
     "iopub.status.idle": "2022-04-12T02:20:25.872582Z",
     "shell.execute_reply": "2022-04-12T02:20:25.871837Z",
     "shell.execute_reply.started": "2022-04-12T02:01:39.959064Z"
    },
    "papermill": {
     "duration": 0.067401,
     "end_time": "2022-04-12T02:20:25.872749",
     "exception": false,
     "start_time": "2022-04-12T02:20:25.805348",
     "status": "completed"
    },
    "tags": []
   },
   "outputs": [],
   "source": [
    "# This Python 3 environment comes with many helpful analytics libraries installed\n",
    "\n",
    "import numpy as np # linear algebra\n",
    "import pandas as pd # data processing, CSV file I/O (e.g. pd.read_csv)\n",
    "\n",
    "# Input data files are available in the read-only \"../input/\" directory\n",
    "\n",
    "\n",
    "import os\n",
    "for dirname, _, filenames in os.walk('/kaggle/input'):\n",
    "    for filename in filenames:\n",
    "        print(os.path.join(dirname, filename))\n",
    "\n"
   ]
  },
  {
   "cell_type": "code",
   "execution_count": 2,
   "metadata": {},
   "outputs": [
    {
     "name": "stdout",
     "output_type": "stream",
     "text": [
      "Requirement already satisfied: matplotlib-venn in c:\\anacoda\\lib\\site-packages (0.11.7)\n",
      "Requirement already satisfied: scipy in c:\\anacoda\\lib\\site-packages (from matplotlib-venn) (1.4.1)\n",
      "Requirement already satisfied: numpy in c:\\anacoda\\lib\\site-packages (from matplotlib-venn) (1.16.4)\n",
      "Requirement already satisfied: matplotlib in c:\\anacoda\\lib\\site-packages (from matplotlib-venn) (3.1.0)\n",
      "Requirement already satisfied: cycler>=0.10 in c:\\anacoda\\lib\\site-packages (from matplotlib->matplotlib-venn) (0.10.0)\n",
      "Requirement already satisfied: kiwisolver>=1.0.1 in c:\\anacoda\\lib\\site-packages (from matplotlib->matplotlib-venn) (1.1.0)\n",
      "Requirement already satisfied: pyparsing!=2.0.4,!=2.1.2,!=2.1.6,>=2.0.1 in c:\\anacoda\\lib\\site-packages (from matplotlib->matplotlib-venn) (2.4.0)\n",
      "Requirement already satisfied: python-dateutil>=2.1 in c:\\anacoda\\lib\\site-packages (from matplotlib->matplotlib-venn) (2.8.0)\n",
      "Requirement already satisfied: six in c:\\anacoda\\lib\\site-packages (from cycler>=0.10->matplotlib->matplotlib-venn) (1.12.0)\n",
      "Requirement already satisfied: setuptools in c:\\anacoda\\lib\\site-packages (from kiwisolver>=1.0.1->matplotlib->matplotlib-venn) (41.0.1)\n",
      "Note: you may need to restart the kernel to use updated packages.\n"
     ]
    }
   ],
   "source": [
    "\n",
    "pip install matplotlib-venn"
   ]
  },
  {
   "cell_type": "code",
   "execution_count": 3,
   "metadata": {
    "execution": {
     "iopub.execute_input": "2022-04-12T02:20:25.972690Z",
     "iopub.status.busy": "2022-04-12T02:20:25.971931Z",
     "iopub.status.idle": "2022-04-12T02:20:27.059207Z",
     "shell.execute_reply": "2022-04-12T02:20:27.058618Z",
     "shell.execute_reply.started": "2022-04-12T02:02:14.739269Z"
    },
    "papermill": {
     "duration": 1.138952,
     "end_time": "2022-04-12T02:20:27.059363",
     "exception": false,
     "start_time": "2022-04-12T02:20:25.920411",
     "status": "completed"
    },
    "tags": []
   },
   "outputs": [],
   "source": [
    "import matplotlib.pyplot as plt \n",
    "from matplotlib_venn import venn3, venn2\n",
    "import seaborn as sns"
   ]
  },
  {
   "cell_type": "markdown",
   "metadata": {
    "papermill": {
     "duration": 0.046772,
     "end_time": "2022-04-12T02:20:27.151843",
     "exception": false,
     "start_time": "2022-04-12T02:20:27.105071",
     "status": "completed"
    },
    "tags": []
   },
   "source": [
    "### Data preparation"
   ]
  },
  {
   "cell_type": "code",
   "execution_count": 4,
   "metadata": {
    "execution": {
     "iopub.execute_input": "2022-04-12T02:20:27.246962Z",
     "iopub.status.busy": "2022-04-12T02:20:27.246339Z",
     "iopub.status.idle": "2022-04-12T02:20:27.254316Z",
     "shell.execute_reply": "2022-04-12T02:20:27.254777Z",
     "shell.execute_reply.started": "2022-04-12T02:03:08.217733Z"
    },
    "papermill": {
     "duration": 0.057567,
     "end_time": "2022-04-12T02:20:27.254965",
     "exception": false,
     "start_time": "2022-04-12T02:20:27.197398",
     "status": "completed"
    },
    "tags": []
   },
   "outputs": [
    {
     "data": {
      "text/plain": [
       "'C:\\\\Users\\\\komalsingh\\\\Downloads'"
      ]
     },
     "execution_count": 4,
     "metadata": {},
     "output_type": "execute_result"
    }
   ],
   "source": [
    "pwd"
   ]
  },
  {
   "cell_type": "code",
   "execution_count": 5,
   "metadata": {
    "execution": {
     "iopub.execute_input": "2022-04-12T02:20:27.351413Z",
     "iopub.status.busy": "2022-04-12T02:20:27.350486Z",
     "iopub.status.idle": "2022-04-12T02:20:27.386485Z",
     "shell.execute_reply": "2022-04-12T02:20:27.387008Z",
     "shell.execute_reply.started": "2022-04-12T02:03:08.960871Z"
    },
    "papermill": {
     "duration": 0.085415,
     "end_time": "2022-04-12T02:20:27.387191",
     "exception": false,
     "start_time": "2022-04-12T02:20:27.301776",
     "status": "completed"
    },
    "tags": []
   },
   "outputs": [
    {
     "name": "stdout",
     "output_type": "stream",
     "text": [
      "<class 'pandas.core.frame.DataFrame'>\n",
      "RangeIndex: 309 entries, 0 to 308\n",
      "Data columns (total 16 columns):\n",
      "GENDER                   309 non-null object\n",
      "AGE                      309 non-null int64\n",
      "SMOKING                  309 non-null int64\n",
      "YELLOW_FINGERS           309 non-null int64\n",
      "ANXIETY                  309 non-null int64\n",
      "PEER_PRESSURE            309 non-null int64\n",
      "CHRONIC DISEASE          309 non-null int64\n",
      "FATIGUE                  309 non-null int64\n",
      "ALLERGY                  309 non-null int64\n",
      "WHEEZING                 309 non-null int64\n",
      "ALCOHOL CONSUMING        309 non-null int64\n",
      "COUGHING                 309 non-null int64\n",
      "SHORTNESS OF BREATH      309 non-null int64\n",
      "SWALLOWING DIFFICULTY    309 non-null int64\n",
      "CHEST PAIN               309 non-null int64\n",
      "LUNG_CANCER              309 non-null object\n",
      "dtypes: int64(14), object(2)\n",
      "memory usage: 38.7+ KB\n"
     ]
    }
   ],
   "source": [
    "df_raw = pd.read_csv('C:\\\\Users\\\\komalsingh\\\\Downloads\\survey lung cancer.csv')\n",
    "df = df_raw.copy()\n",
    "df.info()"
   ]
  },
  {
   "cell_type": "code",
   "execution_count": 6,
   "metadata": {
    "execution": {
     "iopub.execute_input": "2022-04-12T02:20:27.485271Z",
     "iopub.status.busy": "2022-04-12T02:20:27.484516Z",
     "iopub.status.idle": "2022-04-12T02:20:27.491337Z",
     "shell.execute_reply": "2022-04-12T02:20:27.491921Z",
     "shell.execute_reply.started": "2022-04-12T02:03:09.503834Z"
    },
    "papermill": {
     "duration": 0.058423,
     "end_time": "2022-04-12T02:20:27.492091",
     "exception": false,
     "start_time": "2022-04-12T02:20:27.433668",
     "status": "completed"
    },
    "tags": []
   },
   "outputs": [
    {
     "name": "stdout",
     "output_type": "stream",
     "text": [
      "Total Duplicated Rows : 33\n"
     ]
    }
   ],
   "source": [
    "#Duplicate Checking\n",
    "\n",
    "print(f'Total Duplicated Rows : {df.duplicated().sum()}')"
   ]
  },
  {
   "cell_type": "code",
   "execution_count": 7,
   "metadata": {
    "execution": {
     "iopub.execute_input": "2022-04-12T02:20:27.592881Z",
     "iopub.status.busy": "2022-04-12T02:20:27.592199Z",
     "iopub.status.idle": "2022-04-12T02:20:27.600971Z",
     "shell.execute_reply": "2022-04-12T02:20:27.601425Z",
     "shell.execute_reply.started": "2022-04-12T02:03:10.370398Z"
    },
    "papermill": {
     "duration": 0.062029,
     "end_time": "2022-04-12T02:20:27.601597",
     "exception": false,
     "start_time": "2022-04-12T02:20:27.539568",
     "status": "completed"
    },
    "tags": []
   },
   "outputs": [
    {
     "name": "stdout",
     "output_type": "stream",
     "text": [
      "Total Duplicated Rows : 0\n"
     ]
    }
   ],
   "source": [
    "#Remove Duplicated Rows\n",
    "\n",
    "df = df[~df.duplicated()]\n",
    "print(f'Total Duplicated Rows : {df.duplicated().sum()}')"
   ]
  },
  {
   "cell_type": "code",
   "execution_count": 8,
   "metadata": {
    "execution": {
     "iopub.execute_input": "2022-04-12T02:20:27.702256Z",
     "iopub.status.busy": "2022-04-12T02:20:27.699492Z",
     "iopub.status.idle": "2022-04-12T02:20:27.719661Z",
     "shell.execute_reply": "2022-04-12T02:20:27.719017Z",
     "shell.execute_reply.started": "2022-04-12T02:03:10.805094Z"
    },
    "papermill": {
     "duration": 0.070812,
     "end_time": "2022-04-12T02:20:27.719806",
     "exception": false,
     "start_time": "2022-04-12T02:20:27.648994",
     "status": "completed"
    },
    "tags": []
   },
   "outputs": [
    {
     "data": {
      "text/html": [
       "<div>\n",
       "<style scoped>\n",
       "    .dataframe tbody tr th:only-of-type {\n",
       "        vertical-align: middle;\n",
       "    }\n",
       "\n",
       "    .dataframe tbody tr th {\n",
       "        vertical-align: top;\n",
       "    }\n",
       "\n",
       "    .dataframe thead th {\n",
       "        text-align: right;\n",
       "    }\n",
       "</style>\n",
       "<table border=\"1\" class=\"dataframe\">\n",
       "  <thead>\n",
       "    <tr style=\"text-align: right;\">\n",
       "      <th></th>\n",
       "      <th>GENDER</th>\n",
       "      <th>AGE</th>\n",
       "      <th>SMOKING</th>\n",
       "      <th>YELLOW_FINGERS</th>\n",
       "      <th>ANXIETY</th>\n",
       "      <th>PEER_PRESSURE</th>\n",
       "      <th>CHRONIC DISEASE</th>\n",
       "      <th>FATIGUE</th>\n",
       "      <th>ALLERGY</th>\n",
       "      <th>WHEEZING</th>\n",
       "      <th>ALCOHOL CONSUMING</th>\n",
       "      <th>COUGHING</th>\n",
       "      <th>SHORTNESS OF BREATH</th>\n",
       "      <th>SWALLOWING DIFFICULTY</th>\n",
       "      <th>CHEST PAIN</th>\n",
       "      <th>LUNG_CANCER</th>\n",
       "    </tr>\n",
       "  </thead>\n",
       "  <tbody>\n",
       "    <tr>\n",
       "      <th>0</th>\n",
       "      <td>M</td>\n",
       "      <td>69</td>\n",
       "      <td>1</td>\n",
       "      <td>2</td>\n",
       "      <td>2</td>\n",
       "      <td>1</td>\n",
       "      <td>1</td>\n",
       "      <td>2</td>\n",
       "      <td>1</td>\n",
       "      <td>2</td>\n",
       "      <td>2</td>\n",
       "      <td>2</td>\n",
       "      <td>2</td>\n",
       "      <td>2</td>\n",
       "      <td>2</td>\n",
       "      <td>YES</td>\n",
       "    </tr>\n",
       "    <tr>\n",
       "      <th>1</th>\n",
       "      <td>M</td>\n",
       "      <td>74</td>\n",
       "      <td>2</td>\n",
       "      <td>1</td>\n",
       "      <td>1</td>\n",
       "      <td>1</td>\n",
       "      <td>2</td>\n",
       "      <td>2</td>\n",
       "      <td>2</td>\n",
       "      <td>1</td>\n",
       "      <td>1</td>\n",
       "      <td>1</td>\n",
       "      <td>2</td>\n",
       "      <td>2</td>\n",
       "      <td>2</td>\n",
       "      <td>YES</td>\n",
       "    </tr>\n",
       "    <tr>\n",
       "      <th>2</th>\n",
       "      <td>F</td>\n",
       "      <td>59</td>\n",
       "      <td>1</td>\n",
       "      <td>1</td>\n",
       "      <td>1</td>\n",
       "      <td>2</td>\n",
       "      <td>1</td>\n",
       "      <td>2</td>\n",
       "      <td>1</td>\n",
       "      <td>2</td>\n",
       "      <td>1</td>\n",
       "      <td>2</td>\n",
       "      <td>2</td>\n",
       "      <td>1</td>\n",
       "      <td>2</td>\n",
       "      <td>NO</td>\n",
       "    </tr>\n",
       "    <tr>\n",
       "      <th>3</th>\n",
       "      <td>M</td>\n",
       "      <td>63</td>\n",
       "      <td>2</td>\n",
       "      <td>2</td>\n",
       "      <td>2</td>\n",
       "      <td>1</td>\n",
       "      <td>1</td>\n",
       "      <td>1</td>\n",
       "      <td>1</td>\n",
       "      <td>1</td>\n",
       "      <td>2</td>\n",
       "      <td>1</td>\n",
       "      <td>1</td>\n",
       "      <td>2</td>\n",
       "      <td>2</td>\n",
       "      <td>NO</td>\n",
       "    </tr>\n",
       "    <tr>\n",
       "      <th>4</th>\n",
       "      <td>F</td>\n",
       "      <td>63</td>\n",
       "      <td>1</td>\n",
       "      <td>2</td>\n",
       "      <td>1</td>\n",
       "      <td>1</td>\n",
       "      <td>1</td>\n",
       "      <td>1</td>\n",
       "      <td>1</td>\n",
       "      <td>2</td>\n",
       "      <td>1</td>\n",
       "      <td>2</td>\n",
       "      <td>2</td>\n",
       "      <td>1</td>\n",
       "      <td>1</td>\n",
       "      <td>NO</td>\n",
       "    </tr>\n",
       "    <tr>\n",
       "      <th>5</th>\n",
       "      <td>F</td>\n",
       "      <td>75</td>\n",
       "      <td>1</td>\n",
       "      <td>2</td>\n",
       "      <td>1</td>\n",
       "      <td>1</td>\n",
       "      <td>2</td>\n",
       "      <td>2</td>\n",
       "      <td>2</td>\n",
       "      <td>2</td>\n",
       "      <td>1</td>\n",
       "      <td>2</td>\n",
       "      <td>2</td>\n",
       "      <td>1</td>\n",
       "      <td>1</td>\n",
       "      <td>YES</td>\n",
       "    </tr>\n",
       "    <tr>\n",
       "      <th>6</th>\n",
       "      <td>M</td>\n",
       "      <td>52</td>\n",
       "      <td>2</td>\n",
       "      <td>1</td>\n",
       "      <td>1</td>\n",
       "      <td>1</td>\n",
       "      <td>1</td>\n",
       "      <td>2</td>\n",
       "      <td>1</td>\n",
       "      <td>2</td>\n",
       "      <td>2</td>\n",
       "      <td>2</td>\n",
       "      <td>2</td>\n",
       "      <td>1</td>\n",
       "      <td>2</td>\n",
       "      <td>YES</td>\n",
       "    </tr>\n",
       "    <tr>\n",
       "      <th>7</th>\n",
       "      <td>F</td>\n",
       "      <td>51</td>\n",
       "      <td>2</td>\n",
       "      <td>2</td>\n",
       "      <td>2</td>\n",
       "      <td>2</td>\n",
       "      <td>1</td>\n",
       "      <td>2</td>\n",
       "      <td>2</td>\n",
       "      <td>1</td>\n",
       "      <td>1</td>\n",
       "      <td>1</td>\n",
       "      <td>2</td>\n",
       "      <td>2</td>\n",
       "      <td>1</td>\n",
       "      <td>YES</td>\n",
       "    </tr>\n",
       "    <tr>\n",
       "      <th>8</th>\n",
       "      <td>F</td>\n",
       "      <td>68</td>\n",
       "      <td>2</td>\n",
       "      <td>1</td>\n",
       "      <td>2</td>\n",
       "      <td>1</td>\n",
       "      <td>1</td>\n",
       "      <td>2</td>\n",
       "      <td>1</td>\n",
       "      <td>1</td>\n",
       "      <td>1</td>\n",
       "      <td>1</td>\n",
       "      <td>1</td>\n",
       "      <td>1</td>\n",
       "      <td>1</td>\n",
       "      <td>NO</td>\n",
       "    </tr>\n",
       "    <tr>\n",
       "      <th>9</th>\n",
       "      <td>M</td>\n",
       "      <td>53</td>\n",
       "      <td>2</td>\n",
       "      <td>2</td>\n",
       "      <td>2</td>\n",
       "      <td>2</td>\n",
       "      <td>2</td>\n",
       "      <td>1</td>\n",
       "      <td>2</td>\n",
       "      <td>1</td>\n",
       "      <td>2</td>\n",
       "      <td>1</td>\n",
       "      <td>1</td>\n",
       "      <td>2</td>\n",
       "      <td>2</td>\n",
       "      <td>YES</td>\n",
       "    </tr>\n",
       "  </tbody>\n",
       "</table>\n",
       "</div>"
      ],
      "text/plain": [
       "  GENDER  AGE  SMOKING  YELLOW_FINGERS  ANXIETY  PEER_PRESSURE  \\\n",
       "0      M   69        1               2        2              1   \n",
       "1      M   74        2               1        1              1   \n",
       "2      F   59        1               1        1              2   \n",
       "3      M   63        2               2        2              1   \n",
       "4      F   63        1               2        1              1   \n",
       "5      F   75        1               2        1              1   \n",
       "6      M   52        2               1        1              1   \n",
       "7      F   51        2               2        2              2   \n",
       "8      F   68        2               1        2              1   \n",
       "9      M   53        2               2        2              2   \n",
       "\n",
       "   CHRONIC DISEASE  FATIGUE   ALLERGY   WHEEZING  ALCOHOL CONSUMING  COUGHING  \\\n",
       "0                1         2         1         2                  2         2   \n",
       "1                2         2         2         1                  1         1   \n",
       "2                1         2         1         2                  1         2   \n",
       "3                1         1         1         1                  2         1   \n",
       "4                1         1         1         2                  1         2   \n",
       "5                2         2         2         2                  1         2   \n",
       "6                1         2         1         2                  2         2   \n",
       "7                1         2         2         1                  1         1   \n",
       "8                1         2         1         1                  1         1   \n",
       "9                2         1         2         1                  2         1   \n",
       "\n",
       "   SHORTNESS OF BREATH  SWALLOWING DIFFICULTY  CHEST PAIN LUNG_CANCER  \n",
       "0                    2                      2           2         YES  \n",
       "1                    2                      2           2         YES  \n",
       "2                    2                      1           2          NO  \n",
       "3                    1                      2           2          NO  \n",
       "4                    2                      1           1          NO  \n",
       "5                    2                      1           1         YES  \n",
       "6                    2                      1           2         YES  \n",
       "7                    2                      2           1         YES  \n",
       "8                    1                      1           1          NO  \n",
       "9                    1                      2           2         YES  "
      ]
     },
     "execution_count": 8,
     "metadata": {},
     "output_type": "execute_result"
    }
   ],
   "source": [
    "df.head(10)"
   ]
  },
  {
   "cell_type": "code",
   "execution_count": 9,
   "metadata": {
    "execution": {
     "iopub.execute_input": "2022-04-12T02:20:27.825135Z",
     "iopub.status.busy": "2022-04-12T02:20:27.824511Z",
     "iopub.status.idle": "2022-04-12T02:20:27.828004Z",
     "shell.execute_reply": "2022-04-12T02:20:27.827530Z",
     "shell.execute_reply.started": "2022-04-12T02:03:11.611093Z"
    },
    "papermill": {
     "duration": 0.059693,
     "end_time": "2022-04-12T02:20:27.828152",
     "exception": false,
     "start_time": "2022-04-12T02:20:27.768459",
     "status": "completed"
    },
    "tags": []
   },
   "outputs": [
    {
     "data": {
      "text/plain": [
       "1    142\n",
       "0    134\n",
       "Name: GENDER, dtype: int64"
      ]
     },
     "execution_count": 9,
     "metadata": {},
     "output_type": "execute_result"
    }
   ],
   "source": [
    "#Changing Value for Gender Column Male : 1, Female : 0\n",
    "\n",
    "df['GENDER'] = df['GENDER'].replace({'M' : 1, 'F' : 0})\n",
    "df['GENDER'].value_counts()"
   ]
  },
  {
   "cell_type": "code",
   "execution_count": 10,
   "metadata": {
    "execution": {
     "iopub.execute_input": "2022-04-12T02:20:27.938319Z",
     "iopub.status.busy": "2022-04-12T02:20:27.937632Z",
     "iopub.status.idle": "2022-04-12T02:20:27.940169Z",
     "shell.execute_reply": "2022-04-12T02:20:27.940699Z",
     "shell.execute_reply.started": "2022-04-12T02:03:12.363119Z"
    },
    "papermill": {
     "duration": 0.063717,
     "end_time": "2022-04-12T02:20:27.940877",
     "exception": false,
     "start_time": "2022-04-12T02:20:27.877160",
     "status": "completed"
    },
    "tags": []
   },
   "outputs": [
    {
     "data": {
      "text/html": [
       "<div>\n",
       "<style scoped>\n",
       "    .dataframe tbody tr th:only-of-type {\n",
       "        vertical-align: middle;\n",
       "    }\n",
       "\n",
       "    .dataframe tbody tr th {\n",
       "        vertical-align: top;\n",
       "    }\n",
       "\n",
       "    .dataframe thead th {\n",
       "        text-align: right;\n",
       "    }\n",
       "</style>\n",
       "<table border=\"1\" class=\"dataframe\">\n",
       "  <thead>\n",
       "    <tr style=\"text-align: right;\">\n",
       "      <th></th>\n",
       "      <th>GENDER</th>\n",
       "      <th>AGE</th>\n",
       "      <th>SMOKING</th>\n",
       "      <th>YELLOW_FINGERS</th>\n",
       "      <th>ANXIETY</th>\n",
       "      <th>PEER_PRESSURE</th>\n",
       "      <th>CHRONIC DISEASE</th>\n",
       "      <th>FATIGUE</th>\n",
       "      <th>ALLERGY</th>\n",
       "      <th>WHEEZING</th>\n",
       "      <th>ALCOHOL CONSUMING</th>\n",
       "      <th>COUGHING</th>\n",
       "      <th>SHORTNESS OF BREATH</th>\n",
       "      <th>SWALLOWING DIFFICULTY</th>\n",
       "      <th>CHEST PAIN</th>\n",
       "      <th>LUNG_CANCER</th>\n",
       "    </tr>\n",
       "  </thead>\n",
       "  <tbody>\n",
       "    <tr>\n",
       "      <th>0</th>\n",
       "      <td>1</td>\n",
       "      <td>69</td>\n",
       "      <td>1</td>\n",
       "      <td>2</td>\n",
       "      <td>2</td>\n",
       "      <td>1</td>\n",
       "      <td>1</td>\n",
       "      <td>2</td>\n",
       "      <td>1</td>\n",
       "      <td>2</td>\n",
       "      <td>2</td>\n",
       "      <td>2</td>\n",
       "      <td>2</td>\n",
       "      <td>2</td>\n",
       "      <td>2</td>\n",
       "      <td>YES</td>\n",
       "    </tr>\n",
       "    <tr>\n",
       "      <th>1</th>\n",
       "      <td>1</td>\n",
       "      <td>74</td>\n",
       "      <td>2</td>\n",
       "      <td>1</td>\n",
       "      <td>1</td>\n",
       "      <td>1</td>\n",
       "      <td>2</td>\n",
       "      <td>2</td>\n",
       "      <td>2</td>\n",
       "      <td>1</td>\n",
       "      <td>1</td>\n",
       "      <td>1</td>\n",
       "      <td>2</td>\n",
       "      <td>2</td>\n",
       "      <td>2</td>\n",
       "      <td>YES</td>\n",
       "    </tr>\n",
       "    <tr>\n",
       "      <th>2</th>\n",
       "      <td>0</td>\n",
       "      <td>59</td>\n",
       "      <td>1</td>\n",
       "      <td>1</td>\n",
       "      <td>1</td>\n",
       "      <td>2</td>\n",
       "      <td>1</td>\n",
       "      <td>2</td>\n",
       "      <td>1</td>\n",
       "      <td>2</td>\n",
       "      <td>1</td>\n",
       "      <td>2</td>\n",
       "      <td>2</td>\n",
       "      <td>1</td>\n",
       "      <td>2</td>\n",
       "      <td>NO</td>\n",
       "    </tr>\n",
       "    <tr>\n",
       "      <th>3</th>\n",
       "      <td>1</td>\n",
       "      <td>63</td>\n",
       "      <td>2</td>\n",
       "      <td>2</td>\n",
       "      <td>2</td>\n",
       "      <td>1</td>\n",
       "      <td>1</td>\n",
       "      <td>1</td>\n",
       "      <td>1</td>\n",
       "      <td>1</td>\n",
       "      <td>2</td>\n",
       "      <td>1</td>\n",
       "      <td>1</td>\n",
       "      <td>2</td>\n",
       "      <td>2</td>\n",
       "      <td>NO</td>\n",
       "    </tr>\n",
       "    <tr>\n",
       "      <th>4</th>\n",
       "      <td>0</td>\n",
       "      <td>63</td>\n",
       "      <td>1</td>\n",
       "      <td>2</td>\n",
       "      <td>1</td>\n",
       "      <td>1</td>\n",
       "      <td>1</td>\n",
       "      <td>1</td>\n",
       "      <td>1</td>\n",
       "      <td>2</td>\n",
       "      <td>1</td>\n",
       "      <td>2</td>\n",
       "      <td>2</td>\n",
       "      <td>1</td>\n",
       "      <td>1</td>\n",
       "      <td>NO</td>\n",
       "    </tr>\n",
       "  </tbody>\n",
       "</table>\n",
       "</div>"
      ],
      "text/plain": [
       "   GENDER  AGE  SMOKING  YELLOW_FINGERS  ANXIETY  PEER_PRESSURE  \\\n",
       "0       1   69        1               2        2              1   \n",
       "1       1   74        2               1        1              1   \n",
       "2       0   59        1               1        1              2   \n",
       "3       1   63        2               2        2              1   \n",
       "4       0   63        1               2        1              1   \n",
       "\n",
       "   CHRONIC DISEASE  FATIGUE   ALLERGY   WHEEZING  ALCOHOL CONSUMING  COUGHING  \\\n",
       "0                1         2         1         2                  2         2   \n",
       "1                2         2         2         1                  1         1   \n",
       "2                1         2         1         2                  1         2   \n",
       "3                1         1         1         1                  2         1   \n",
       "4                1         1         1         2                  1         2   \n",
       "\n",
       "   SHORTNESS OF BREATH  SWALLOWING DIFFICULTY  CHEST PAIN LUNG_CANCER  \n",
       "0                    2                      2           2         YES  \n",
       "1                    2                      2           2         YES  \n",
       "2                    2                      1           2          NO  \n",
       "3                    1                      2           2          NO  \n",
       "4                    2                      1           1          NO  "
      ]
     },
     "execution_count": 10,
     "metadata": {},
     "output_type": "execute_result"
    }
   ],
   "source": [
    "df.head()"
   ]
  },
  {
   "cell_type": "code",
   "execution_count": 11,
   "metadata": {
    "execution": {
     "iopub.execute_input": "2022-04-12T02:20:28.043990Z",
     "iopub.status.busy": "2022-04-12T02:20:28.041782Z",
     "iopub.status.idle": "2022-04-12T02:20:28.046581Z",
     "shell.execute_reply": "2022-04-12T02:20:28.047099Z",
     "shell.execute_reply.started": "2022-04-12T02:03:13.077207Z"
    },
    "papermill": {
     "duration": 0.056538,
     "end_time": "2022-04-12T02:20:28.047277",
     "exception": false,
     "start_time": "2022-04-12T02:20:27.990739",
     "status": "completed"
    },
    "tags": []
   },
   "outputs": [],
   "source": [
    "df['PATIENT_ID'] = np.arange(1, df.shape[0] + 1)"
   ]
  },
  {
   "cell_type": "code",
   "execution_count": 12,
   "metadata": {
    "execution": {
     "iopub.execute_input": "2022-04-12T02:20:28.150935Z",
     "iopub.status.busy": "2022-04-12T02:20:28.148497Z",
     "iopub.status.idle": "2022-04-12T02:20:28.162545Z",
     "shell.execute_reply": "2022-04-12T02:20:28.163111Z",
     "shell.execute_reply.started": "2022-04-12T02:03:13.758505Z"
    },
    "papermill": {
     "duration": 0.066682,
     "end_time": "2022-04-12T02:20:28.163299",
     "exception": false,
     "start_time": "2022-04-12T02:20:28.096617",
     "status": "completed"
    },
    "tags": []
   },
   "outputs": [
    {
     "data": {
      "text/html": [
       "<div>\n",
       "<style scoped>\n",
       "    .dataframe tbody tr th:only-of-type {\n",
       "        vertical-align: middle;\n",
       "    }\n",
       "\n",
       "    .dataframe tbody tr th {\n",
       "        vertical-align: top;\n",
       "    }\n",
       "\n",
       "    .dataframe thead th {\n",
       "        text-align: right;\n",
       "    }\n",
       "</style>\n",
       "<table border=\"1\" class=\"dataframe\">\n",
       "  <thead>\n",
       "    <tr style=\"text-align: right;\">\n",
       "      <th></th>\n",
       "      <th>GENDER</th>\n",
       "      <th>AGE</th>\n",
       "      <th>SMOKING</th>\n",
       "      <th>YELLOW_FINGERS</th>\n",
       "      <th>ANXIETY</th>\n",
       "      <th>PEER_PRESSURE</th>\n",
       "      <th>CHRONIC DISEASE</th>\n",
       "      <th>FATIGUE</th>\n",
       "      <th>ALLERGY</th>\n",
       "      <th>WHEEZING</th>\n",
       "      <th>ALCOHOL CONSUMING</th>\n",
       "      <th>COUGHING</th>\n",
       "      <th>SHORTNESS OF BREATH</th>\n",
       "      <th>SWALLOWING DIFFICULTY</th>\n",
       "      <th>CHEST PAIN</th>\n",
       "      <th>LUNG_CANCER</th>\n",
       "      <th>PATIENT_ID</th>\n",
       "    </tr>\n",
       "  </thead>\n",
       "  <tbody>\n",
       "    <tr>\n",
       "      <th>0</th>\n",
       "      <td>1</td>\n",
       "      <td>69</td>\n",
       "      <td>1</td>\n",
       "      <td>2</td>\n",
       "      <td>2</td>\n",
       "      <td>1</td>\n",
       "      <td>1</td>\n",
       "      <td>2</td>\n",
       "      <td>1</td>\n",
       "      <td>2</td>\n",
       "      <td>2</td>\n",
       "      <td>2</td>\n",
       "      <td>2</td>\n",
       "      <td>2</td>\n",
       "      <td>2</td>\n",
       "      <td>YES</td>\n",
       "      <td>1</td>\n",
       "    </tr>\n",
       "    <tr>\n",
       "      <th>1</th>\n",
       "      <td>1</td>\n",
       "      <td>74</td>\n",
       "      <td>2</td>\n",
       "      <td>1</td>\n",
       "      <td>1</td>\n",
       "      <td>1</td>\n",
       "      <td>2</td>\n",
       "      <td>2</td>\n",
       "      <td>2</td>\n",
       "      <td>1</td>\n",
       "      <td>1</td>\n",
       "      <td>1</td>\n",
       "      <td>2</td>\n",
       "      <td>2</td>\n",
       "      <td>2</td>\n",
       "      <td>YES</td>\n",
       "      <td>2</td>\n",
       "    </tr>\n",
       "    <tr>\n",
       "      <th>2</th>\n",
       "      <td>0</td>\n",
       "      <td>59</td>\n",
       "      <td>1</td>\n",
       "      <td>1</td>\n",
       "      <td>1</td>\n",
       "      <td>2</td>\n",
       "      <td>1</td>\n",
       "      <td>2</td>\n",
       "      <td>1</td>\n",
       "      <td>2</td>\n",
       "      <td>1</td>\n",
       "      <td>2</td>\n",
       "      <td>2</td>\n",
       "      <td>1</td>\n",
       "      <td>2</td>\n",
       "      <td>NO</td>\n",
       "      <td>3</td>\n",
       "    </tr>\n",
       "    <tr>\n",
       "      <th>3</th>\n",
       "      <td>1</td>\n",
       "      <td>63</td>\n",
       "      <td>2</td>\n",
       "      <td>2</td>\n",
       "      <td>2</td>\n",
       "      <td>1</td>\n",
       "      <td>1</td>\n",
       "      <td>1</td>\n",
       "      <td>1</td>\n",
       "      <td>1</td>\n",
       "      <td>2</td>\n",
       "      <td>1</td>\n",
       "      <td>1</td>\n",
       "      <td>2</td>\n",
       "      <td>2</td>\n",
       "      <td>NO</td>\n",
       "      <td>4</td>\n",
       "    </tr>\n",
       "    <tr>\n",
       "      <th>4</th>\n",
       "      <td>0</td>\n",
       "      <td>63</td>\n",
       "      <td>1</td>\n",
       "      <td>2</td>\n",
       "      <td>1</td>\n",
       "      <td>1</td>\n",
       "      <td>1</td>\n",
       "      <td>1</td>\n",
       "      <td>1</td>\n",
       "      <td>2</td>\n",
       "      <td>1</td>\n",
       "      <td>2</td>\n",
       "      <td>2</td>\n",
       "      <td>1</td>\n",
       "      <td>1</td>\n",
       "      <td>NO</td>\n",
       "      <td>5</td>\n",
       "    </tr>\n",
       "  </tbody>\n",
       "</table>\n",
       "</div>"
      ],
      "text/plain": [
       "   GENDER  AGE  SMOKING  YELLOW_FINGERS  ANXIETY  PEER_PRESSURE  \\\n",
       "0       1   69        1               2        2              1   \n",
       "1       1   74        2               1        1              1   \n",
       "2       0   59        1               1        1              2   \n",
       "3       1   63        2               2        2              1   \n",
       "4       0   63        1               2        1              1   \n",
       "\n",
       "   CHRONIC DISEASE  FATIGUE   ALLERGY   WHEEZING  ALCOHOL CONSUMING  COUGHING  \\\n",
       "0                1         2         1         2                  2         2   \n",
       "1                2         2         2         1                  1         1   \n",
       "2                1         2         1         2                  1         2   \n",
       "3                1         1         1         1                  2         1   \n",
       "4                1         1         1         2                  1         2   \n",
       "\n",
       "   SHORTNESS OF BREATH  SWALLOWING DIFFICULTY  CHEST PAIN LUNG_CANCER  \\\n",
       "0                    2                      2           2         YES   \n",
       "1                    2                      2           2         YES   \n",
       "2                    2                      1           2          NO   \n",
       "3                    1                      2           2          NO   \n",
       "4                    2                      1           1          NO   \n",
       "\n",
       "   PATIENT_ID  \n",
       "0           1  \n",
       "1           2  \n",
       "2           3  \n",
       "3           4  \n",
       "4           5  "
      ]
     },
     "execution_count": 12,
     "metadata": {},
     "output_type": "execute_result"
    }
   ],
   "source": [
    "df.head()"
   ]
  },
  {
   "cell_type": "markdown",
   "metadata": {
    "papermill": {
     "duration": 0.049706,
     "end_time": "2022-04-12T02:20:28.261997",
     "exception": false,
     "start_time": "2022-04-12T02:20:28.212291",
     "status": "completed"
    },
    "tags": []
   },
   "source": [
    "### Data visualisation"
   ]
  },
  {
   "cell_type": "code",
   "execution_count": 13,
   "metadata": {
    "execution": {
     "iopub.execute_input": "2022-04-12T02:20:28.367924Z",
     "iopub.status.busy": "2022-04-12T02:20:28.366851Z",
     "iopub.status.idle": "2022-04-12T02:20:28.375993Z",
     "shell.execute_reply": "2022-04-12T02:20:28.376527Z",
     "shell.execute_reply.started": "2022-04-12T02:03:15.089304Z"
    },
    "papermill": {
     "duration": 0.065532,
     "end_time": "2022-04-12T02:20:28.376714",
     "exception": false,
     "start_time": "2022-04-12T02:20:28.311182",
     "status": "completed"
    },
    "tags": []
   },
   "outputs": [],
   "source": [
    "smoking = df[(df['SMOKING'] == 2)]\n",
    "no_smoking = df[(df['SMOKING'] == 1)]\n",
    "\n",
    "alcohol = df[(df['ALCOHOL CONSUMING'] == 2)]\n",
    "no_alcohol = df[(df['ALCOHOL CONSUMING'] == 1)]\n",
    "\n",
    "cancer = df[(df['LUNG_CANCER'] == 'YES')]\n",
    "no_cancer = df[(df['LUNG_CANCER'] == 'NO')]"
   ]
  },
  {
   "cell_type": "code",
   "execution_count": 14,
   "metadata": {
    "execution": {
     "iopub.execute_input": "2022-04-12T02:20:28.483496Z",
     "iopub.status.busy": "2022-04-12T02:20:28.482823Z",
     "iopub.status.idle": "2022-04-12T02:20:28.484761Z",
     "shell.execute_reply": "2022-04-12T02:20:28.485225Z",
     "shell.execute_reply.started": "2022-04-12T02:03:16.123855Z"
    },
    "papermill": {
     "duration": 0.058346,
     "end_time": "2022-04-12T02:20:28.485396",
     "exception": false,
     "start_time": "2022-04-12T02:20:28.427050",
     "status": "completed"
    },
    "tags": []
   },
   "outputs": [],
   "source": [
    "set_smoking = set(smoking['PATIENT_ID'])\n",
    "set_nosmoking = set(no_smoking['PATIENT_ID'])\n",
    "\n",
    "set_alcohol = set(alcohol['PATIENT_ID'])\n",
    "set_noalcohol = set(no_alcohol['PATIENT_ID'])\n",
    "\n",
    "set_cancer = set(cancer['PATIENT_ID'])\n",
    "set_nocancer = set(no_cancer['PATIENT_ID'])"
   ]
  },
  {
   "cell_type": "code",
   "execution_count": 15,
   "metadata": {
    "execution": {
     "iopub.execute_input": "2022-04-12T02:20:28.588172Z",
     "iopub.status.busy": "2022-04-12T02:20:28.587566Z",
     "iopub.status.idle": "2022-04-12T02:20:28.949704Z",
     "shell.execute_reply": "2022-04-12T02:20:28.950764Z",
     "shell.execute_reply.started": "2022-04-12T02:03:16.914306Z"
    },
    "papermill": {
     "duration": 0.415293,
     "end_time": "2022-04-12T02:20:28.951067",
     "exception": false,
     "start_time": "2022-04-12T02:20:28.535774",
     "status": "completed"
    },
    "tags": []
   },
   "outputs": [
    {
     "data": {
      "text/plain": [
       "<matplotlib_venn._common.VennDiagram at 0x249751ca9e8>"
      ]
     },
     "execution_count": 15,
     "metadata": {},
     "output_type": "execute_result"
    },
    {
     "data": {
      "image/png": "[encoded data removed]",
      "text/plain": [
       "<Figure size 576x576 with 8 Axes>"
      ]
     },
     "metadata": {},
     "output_type": "display_data"
    }
   ],
   "source": [
    "plt.figure(figsize=(8,8), constrained_layout = True)\n",
    "\n",
    "plt.subplot(2,2,1)\n",
    "venn3([set_smoking, set_alcohol, set_cancer], ('Smoking', 'Alcohol', 'Cancer'),\n",
    "     set_colors=(\"orange\", \"blue\", \"red\"), alpha=0.7)\n",
    "\n",
    "plt.subplot(2,2,2)\n",
    "venn3([set_smoking, set_alcohol, set_nocancer], ('Smoking', 'Alcohol', 'No Cancer'),\n",
    "     set_colors=(\"orange\", \"blue\", \"red\"), alpha=0.7)\n",
    "\n"
   ]
  },
  {
   "cell_type": "markdown",
   "metadata": {
    "papermill": {
     "duration": 0.05121,
     "end_time": "2022-04-12T02:20:29.067111",
     "exception": false,
     "start_time": "2022-04-12T02:20:29.015901",
     "status": "completed"
    },
    "tags": []
   },
   "source": [
    "Take aways:\n",
    "* It is significantly more likely to get lung cancer if one BOTH smokes and consumes alcohol (3 vs 76)\n",
    "* It is significantly more likely to get lung cancer if one EITHER smokes OR consumes alcohol (16 vs 55 and 4 vs 69)\n",
    "* There is a substantial possibility that one may still get lung cancer without smoking or consuming alcohol (38 cases)."
   ]
  },
  {
   "cell_type": "markdown",
   "metadata": {
    "papermill": {
     "duration": 0.050692,
     "end_time": "2022-04-12T02:20:29.169154",
     "exception": false,
     "start_time": "2022-04-12T02:20:29.118462",
     "status": "completed"
    },
    "tags": []
   },
   "source": [
    "### Lung cancer symptoms investigation"
   ]
  },
  {
   "cell_type": "code",
   "execution_count": 16,
   "metadata": {
    "execution": {
     "iopub.execute_input": "2022-04-12T02:20:29.276225Z",
     "iopub.status.busy": "2022-04-12T02:20:29.275552Z",
     "iopub.status.idle": "2022-04-12T02:20:29.280430Z",
     "shell.execute_reply": "2022-04-12T02:20:29.280889Z",
     "shell.execute_reply.started": "2022-04-12T02:03:19.299645Z"
    },
    "papermill": {
     "duration": 0.059481,
     "end_time": "2022-04-12T02:20:29.281059",
     "exception": false,
     "start_time": "2022-04-12T02:20:29.221578",
     "status": "completed"
    },
    "tags": []
   },
   "outputs": [
    {
     "data": {
      "text/plain": [
       "Index(['GENDER', 'AGE', 'SMOKING', 'YELLOW_FINGERS', 'ANXIETY',\n",
       "       'PEER_PRESSURE', 'CHRONIC DISEASE', 'FATIGUE ', 'ALLERGY ', 'WHEEZING',\n",
       "       'ALCOHOL CONSUMING', 'COUGHING', 'SHORTNESS OF BREATH',\n",
       "       'SWALLOWING DIFFICULTY', 'CHEST PAIN', 'LUNG_CANCER', 'PATIENT_ID'],\n",
       "      dtype='object')"
      ]
     },
     "execution_count": 16,
     "metadata": {},
     "output_type": "execute_result"
    }
   ],
   "source": [
    "df.columns"
   ]
  },
  {
   "cell_type": "code",
   "execution_count": 17,
   "metadata": {
    "execution": {
     "iopub.execute_input": "2022-04-12T02:20:29.385682Z",
     "iopub.status.busy": "2022-04-12T02:20:29.385051Z",
     "iopub.status.idle": "2022-04-12T02:20:29.388440Z",
     "shell.execute_reply": "2022-04-12T02:20:29.388834Z",
     "shell.execute_reply.started": "2022-04-12T02:04:16.174929Z"
    },
    "papermill": {
     "duration": 0.057103,
     "end_time": "2022-04-12T02:20:29.389021",
     "exception": false,
     "start_time": "2022-04-12T02:20:29.331918",
     "status": "completed"
    },
    "tags": []
   },
   "outputs": [],
   "source": [
    "symptoms = ['SHORTNESS OF BREATH', 'FATIGUE ', 'COUGHING', 'WHEEZING', 'CHEST PAIN', \n",
    "            'ALLERGY ',  'SWALLOWING DIFFICULTY','YELLOW_FINGERS']"
   ]
  },
  {
   "cell_type": "code",
   "execution_count": 18,
   "metadata": {
    "execution": {
     "iopub.execute_input": "2022-04-12T02:20:29.494944Z",
     "iopub.status.busy": "2022-04-12T02:20:29.494367Z",
     "iopub.status.idle": "2022-04-12T02:20:29.500592Z",
     "shell.execute_reply": "2022-04-12T02:20:29.501030Z",
     "shell.execute_reply.started": "2022-04-12T02:04:26.775136Z"
    },
    "papermill": {
     "duration": 0.060662,
     "end_time": "2022-04-12T02:20:29.501202",
     "exception": false,
     "start_time": "2022-04-12T02:20:29.440540",
     "status": "completed"
    },
    "tags": []
   },
   "outputs": [],
   "source": [
    "df_symptoms = df_raw[np.append(symptoms,'LUNG_CANCER')].copy()"
   ]
  },
  {
   "cell_type": "code",
   "execution_count": 19,
   "metadata": {
    "execution": {
     "iopub.execute_input": "2022-04-12T02:20:29.609076Z",
     "iopub.status.busy": "2022-04-12T02:20:29.608463Z",
     "iopub.status.idle": "2022-04-12T02:20:29.615217Z",
     "shell.execute_reply": "2022-04-12T02:20:29.615723Z",
     "shell.execute_reply.started": "2022-04-12T02:05:14.993772Z"
    },
    "papermill": {
     "duration": 0.061516,
     "end_time": "2022-04-12T02:20:29.615931",
     "exception": false,
     "start_time": "2022-04-12T02:20:29.554415",
     "status": "completed"
    },
    "tags": []
   },
   "outputs": [],
   "source": [
    "key = {2 : 'YES', 1 : 'NO'}\n",
    "\n",
    "df_symptoms = df_symptoms[np.append(symptoms,'LUNG_CANCER')].replace(key)"
   ]
  },
  {
   "cell_type": "code",
   "execution_count": 20,
   "metadata": {
    "execution": {
     "iopub.execute_input": "2022-04-12T02:20:29.721683Z",
     "iopub.status.busy": "2022-04-12T02:20:29.721042Z",
     "iopub.status.idle": "2022-04-12T02:20:29.733145Z",
     "shell.execute_reply": "2022-04-12T02:20:29.733685Z",
     "shell.execute_reply.started": "2022-04-12T02:05:23.269922Z"
    },
    "papermill": {
     "duration": 0.066176,
     "end_time": "2022-04-12T02:20:29.733852",
     "exception": false,
     "start_time": "2022-04-12T02:20:29.667676",
     "status": "completed"
    },
    "tags": []
   },
   "outputs": [
    {
     "data": {
      "text/html": [
       "<div>\n",
       "<style scoped>\n",
       "    .dataframe tbody tr th:only-of-type {\n",
       "        vertical-align: middle;\n",
       "    }\n",
       "\n",
       "    .dataframe tbody tr th {\n",
       "        vertical-align: top;\n",
       "    }\n",
       "\n",
       "    .dataframe thead th {\n",
       "        text-align: right;\n",
       "    }\n",
       "</style>\n",
       "<table border=\"1\" class=\"dataframe\">\n",
       "  <thead>\n",
       "    <tr style=\"text-align: right;\">\n",
       "      <th></th>\n",
       "      <th>SHORTNESS OF BREATH</th>\n",
       "      <th>FATIGUE</th>\n",
       "      <th>COUGHING</th>\n",
       "      <th>WHEEZING</th>\n",
       "      <th>CHEST PAIN</th>\n",
       "      <th>ALLERGY</th>\n",
       "      <th>SWALLOWING DIFFICULTY</th>\n",
       "      <th>YELLOW_FINGERS</th>\n",
       "      <th>LUNG_CANCER</th>\n",
       "    </tr>\n",
       "  </thead>\n",
       "  <tbody>\n",
       "    <tr>\n",
       "      <th>0</th>\n",
       "      <td>YES</td>\n",
       "      <td>YES</td>\n",
       "      <td>YES</td>\n",
       "      <td>YES</td>\n",
       "      <td>YES</td>\n",
       "      <td>NO</td>\n",
       "      <td>YES</td>\n",
       "      <td>YES</td>\n",
       "      <td>YES</td>\n",
       "    </tr>\n",
       "    <tr>\n",
       "      <th>1</th>\n",
       "      <td>YES</td>\n",
       "      <td>YES</td>\n",
       "      <td>NO</td>\n",
       "      <td>NO</td>\n",
       "      <td>YES</td>\n",
       "      <td>YES</td>\n",
       "      <td>YES</td>\n",
       "      <td>NO</td>\n",
       "      <td>YES</td>\n",
       "    </tr>\n",
       "    <tr>\n",
       "      <th>2</th>\n",
       "      <td>YES</td>\n",
       "      <td>YES</td>\n",
       "      <td>YES</td>\n",
       "      <td>YES</td>\n",
       "      <td>YES</td>\n",
       "      <td>NO</td>\n",
       "      <td>NO</td>\n",
       "      <td>NO</td>\n",
       "      <td>NO</td>\n",
       "    </tr>\n",
       "    <tr>\n",
       "      <th>3</th>\n",
       "      <td>NO</td>\n",
       "      <td>NO</td>\n",
       "      <td>NO</td>\n",
       "      <td>NO</td>\n",
       "      <td>YES</td>\n",
       "      <td>NO</td>\n",
       "      <td>YES</td>\n",
       "      <td>YES</td>\n",
       "      <td>NO</td>\n",
       "    </tr>\n",
       "    <tr>\n",
       "      <th>4</th>\n",
       "      <td>YES</td>\n",
       "      <td>NO</td>\n",
       "      <td>YES</td>\n",
       "      <td>YES</td>\n",
       "      <td>NO</td>\n",
       "      <td>NO</td>\n",
       "      <td>NO</td>\n",
       "      <td>YES</td>\n",
       "      <td>NO</td>\n",
       "    </tr>\n",
       "  </tbody>\n",
       "</table>\n",
       "</div>"
      ],
      "text/plain": [
       "  SHORTNESS OF BREATH FATIGUE  COUGHING WHEEZING CHEST PAIN ALLERGY   \\\n",
       "0                 YES      YES      YES      YES        YES       NO   \n",
       "1                 YES      YES       NO       NO        YES      YES   \n",
       "2                 YES      YES      YES      YES        YES       NO   \n",
       "3                  NO       NO       NO       NO        YES       NO   \n",
       "4                 YES       NO      YES      YES         NO       NO   \n",
       "\n",
       "  SWALLOWING DIFFICULTY YELLOW_FINGERS LUNG_CANCER  \n",
       "0                   YES            YES         YES  \n",
       "1                   YES             NO         YES  \n",
       "2                    NO             NO          NO  \n",
       "3                   YES            YES          NO  \n",
       "4                    NO            YES          NO  "
      ]
     },
     "execution_count": 20,
     "metadata": {},
     "output_type": "execute_result"
    }
   ],
   "source": [
    "df_symptoms.head(5)"
   ]
  },
  {
   "cell_type": "code",
   "execution_count": 21,
   "metadata": {
    "execution": {
     "iopub.execute_input": "2022-04-12T02:20:29.841149Z",
     "iopub.status.busy": "2022-04-12T02:20:29.840559Z",
     "iopub.status.idle": "2022-04-12T02:20:31.501768Z",
     "shell.execute_reply": "2022-04-12T02:20:31.501152Z",
     "shell.execute_reply.started": "2022-04-12T02:05:24.169238Z"
    },
    "papermill": {
     "duration": 1.71496,
     "end_time": "2022-04-12T02:20:31.501928",
     "exception": false,
     "start_time": "2022-04-12T02:20:29.786968",
     "status": "completed"
    },
    "tags": []
   },
   "outputs": [
    {
     "data": {
      "image/png": "[encoded data removed]",
      "text/plain": [
       "<Figure size 432x288 with 1 Axes>"
      ]
     },
     "metadata": {
      "needs_background": "light"
     },
     "output_type": "display_data"
    },
    {
     "data": {
      "image/png": "[encoded data removed]",
      "text/plain": [
       "<Figure size 432x288 with 1 Axes>"
      ]
     },
     "metadata": {
      "needs_background": "light"
     },
     "output_type": "display_data"
    },
    {
     "data": {
      "image/png": "[encoded data removed]",
      "text/plain": [
       "<Figure size 432x288 with 1 Axes>"
      ]
     },
     "metadata": {
      "needs_background": "light"
     },
     "output_type": "display_data"
    },
    {
     "data": {
      "image/png": "[encoded data removed]",
      "text/plain": [
       "<Figure size 432x288 with 1 Axes>"
      ]
     },
     "metadata": {
      "needs_background": "light"
     },
     "output_type": "display_data"
    },
    {
     "data": {
      "image/png": "[encoded data removed]",
      "text/plain": [
       "<Figure size 432x288 with 1 Axes>"
      ]
     },
     "metadata": {
      "needs_background": "light"
     },
     "output_type": "display_data"
    },
    {
     "data": {
      "image/png": "[encoded data removed]",
      "text/plain": [
       "<Figure size 432x288 with 1 Axes>"
      ]
     },
     "metadata": {
      "needs_background": "light"
     },
     "output_type": "display_data"
    },
    {
     "data": {
      "image/png": "[encoded data removed]",
      "text/plain": [
       "<Figure size 432x288 with 1 Axes>"
      ]
     },
     "metadata": {
      "needs_background": "light"
     },
     "output_type": "display_data"
    },
    {
     "data": {
      "image/png": "[encoded data removed]",
      "text/plain": [
       "<Figure size 432x288 with 1 Axes>"
      ]
     },
     "metadata": {
      "needs_background": "light"
     },
     "output_type": "display_data"
    }
   ],
   "source": [
    "# Checking value counts for different symptoms\n",
    "for a in symptoms:\n",
    "    sns.histplot(df_symptoms[[a, 'LUNG_CANCER']], x = a, hue=\"LUNG_CANCER\")\n",
    "    plt.title(a)\n",
    "    plt.show()"
   ]
  },
  {
   "cell_type": "markdown",
   "metadata": {
    "execution": {
     "iopub.execute_input": "2022-04-11T23:03:36.552288Z",
     "iopub.status.busy": "2022-04-11T23:03:36.551207Z",
     "iopub.status.idle": "2022-04-11T23:03:36.562184Z",
     "shell.execute_reply": "2022-04-11T23:03:36.561012Z",
     "shell.execute_reply.started": "2022-04-11T23:03:36.552235Z"
    },
    "papermill": {
     "duration": 0.058457,
     "end_time": "2022-04-12T02:20:31.618906",
     "exception": false,
     "start_time": "2022-04-12T02:20:31.560449",
     "status": "completed"
    },
    "tags": []
   },
   "source": [
    "Take aways:\n",
    "* Choughing, wheezing, chest pain, allergy, and yellow fingers seem to occur more in presence of lung cancer, and less in absence of it. Therfore, these symptoms can be considered to act as reliable indicators of presence of lung cancer.\n",
    "* Fatigue and shortness of breath, though are equally likely to occur in absence of lung cancer, are about twice more likely to occur in presence of lung cancer. These two, therefore can be considered the additional indicators of lung cancer.\n",
    "* Although, swallowing difficulty is less likely to occur in absence of lung cancer, it is equally likely to occur in presence of lung cancer. Therefore, swallowing difficulty can not be considered a reliable indicator of lung cancer.\n"
   ]
  },
  {
   "cell_type": "markdown",
   "metadata": {
    "papermill": {
     "duration": 0.056785,
     "end_time": "2022-04-12T02:20:31.732464",
     "exception": false,
     "start_time": "2022-04-12T02:20:31.675679",
     "status": "completed"
    },
    "tags": []
   },
   "source": [
    "#### Comorbidity investigation"
   ]
  },
  {
   "cell_type": "code",
   "execution_count": 23,
   "metadata": {
    "execution": {
     "iopub.execute_input": "2022-04-12T02:20:31.851450Z",
     "iopub.status.busy": "2022-04-12T02:20:31.850815Z",
     "iopub.status.idle": "2022-04-12T02:20:31.853324Z",
     "shell.execute_reply": "2022-04-12T02:20:31.853745Z",
     "shell.execute_reply.started": "2022-04-12T02:05:27.298513Z"
    },
    "papermill": {
     "duration": 0.064602,
     "end_time": "2022-04-12T02:20:31.853937",
     "exception": false,
     "start_time": "2022-04-12T02:20:31.789335",
     "status": "completed"
    },
    "tags": []
   },
   "outputs": [],
   "source": [
    "comorbidity = ['ANXIETY', 'CHRONIC DISEASE']"
   ]
  },
  {
   "cell_type": "code",
   "execution_count": 24,
   "metadata": {
    "execution": {
     "iopub.execute_input": "2022-04-12T02:20:31.972386Z",
     "iopub.status.busy": "2022-04-12T02:20:31.971739Z",
     "iopub.status.idle": "2022-04-12T02:20:31.976523Z",
     "shell.execute_reply": "2022-04-12T02:20:31.977048Z",
     "shell.execute_reply.started": "2022-04-12T02:05:27.665368Z"
    },
    "papermill": {
     "duration": 0.065011,
     "end_time": "2022-04-12T02:20:31.977225",
     "exception": false,
     "start_time": "2022-04-12T02:20:31.912214",
     "status": "completed"
    },
    "tags": []
   },
   "outputs": [],
   "source": [
    "df_comorbidity = df_raw[np.append(comorbidity,'LUNG_CANCER')]"
   ]
  },
  {
   "cell_type": "code",
   "execution_count": 25,
   "metadata": {
    "execution": {
     "iopub.execute_input": "2022-04-12T02:20:32.099036Z",
     "iopub.status.busy": "2022-04-12T02:20:32.094222Z",
     "iopub.status.idle": "2022-04-12T02:20:32.100819Z",
     "shell.execute_reply": "2022-04-12T02:20:32.101317Z",
     "shell.execute_reply.started": "2022-04-12T02:05:28.082191Z"
    },
    "papermill": {
     "duration": 0.067219,
     "end_time": "2022-04-12T02:20:32.101493",
     "exception": false,
     "start_time": "2022-04-12T02:20:32.034274",
     "status": "completed"
    },
    "tags": []
   },
   "outputs": [],
   "source": [
    "key = {2 : 'YES', 1 : 'NO'}\n",
    "\n",
    "df_comorbidity = df_comorbidity[np.append(comorbidity,'LUNG_CANCER')].replace(key)"
   ]
  },
  {
   "cell_type": "code",
   "execution_count": 26,
   "metadata": {
    "execution": {
     "iopub.execute_input": "2022-04-12T02:20:32.218849Z",
     "iopub.status.busy": "2022-04-12T02:20:32.218179Z",
     "iopub.status.idle": "2022-04-12T02:20:32.624789Z",
     "shell.execute_reply": "2022-04-12T02:20:32.625281Z",
     "shell.execute_reply.started": "2022-04-12T02:05:28.770644Z"
    },
    "papermill": {
     "duration": 0.467082,
     "end_time": "2022-04-12T02:20:32.625467",
     "exception": false,
     "start_time": "2022-04-12T02:20:32.158385",
     "status": "completed"
    },
    "tags": []
   },
   "outputs": [
    {
     "data": {
      "image/png": "[encoded data removed]",
      "text/plain": [
       "<Figure size 432x288 with 1 Axes>"
      ]
     },
     "metadata": {
      "needs_background": "light"
     },
     "output_type": "display_data"
    },
    {
     "data": {
      "image/png": "[encoded data removed]",
      "text/plain": [
       "<Figure size 432x288 with 1 Axes>"
      ]
     },
     "metadata": {
      "needs_background": "light"
     },
     "output_type": "display_data"
    }
   ],
   "source": [
    "# Checking value counts for each comorbidities\n",
    "for a in comorbidity:\n",
    "    sns.histplot(df_comorbidity[[a, 'LUNG_CANCER']], x = a, hue=\"LUNG_CANCER\")\n",
    "    plt.title(a)\n",
    "    plt.show()"
   ]
  },
  {
   "cell_type": "markdown",
   "metadata": {
    "papermill": {
     "duration": 0.057908,
     "end_time": "2022-04-12T02:20:32.741542",
     "exception": false,
     "start_time": "2022-04-12T02:20:32.683634",
     "status": "completed"
    },
    "tags": []
   },
   "source": [
    "Take aways:\n",
    "* The presence of anxiety and chronic disease seems to be slightly positively correlated with the presence of lung cancer.\n",
    "* Since chronic disease is a physiological comorbidity, it may be considered as secondary symptom to predict lung cancer"
   ]
  },
  {
   "cell_type": "markdown",
   "metadata": {
    "papermill": {
     "duration": 0.058564,
     "end_time": "2022-04-12T02:20:32.858497",
     "exception": false,
     "start_time": "2022-04-12T02:20:32.799933",
     "status": "completed"
    },
    "tags": []
   },
   "source": [
    "##### Preprocessing"
   ]
  },
  {
   "cell_type": "code",
   "execution_count": 27,
   "metadata": {
    "execution": {
     "iopub.execute_input": "2022-04-12T02:20:32.980230Z",
     "iopub.status.busy": "2022-04-12T02:20:32.979536Z",
     "iopub.status.idle": "2022-04-12T02:20:33.308187Z",
     "shell.execute_reply": "2022-04-12T02:20:33.307649Z",
     "shell.execute_reply.started": "2022-04-12T02:05:31.441243Z"
    },
    "papermill": {
     "duration": 0.391123,
     "end_time": "2022-04-12T02:20:33.308341",
     "exception": false,
     "start_time": "2022-04-12T02:20:32.917218",
     "status": "completed"
    },
    "tags": []
   },
   "outputs": [],
   "source": [
    "from sklearn.preprocessing import StandardScaler\n",
    "from sklearn.model_selection import train_test_split"
   ]
  },
  {
   "cell_type": "code",
   "execution_count": 28,
   "metadata": {
    "execution": {
     "iopub.execute_input": "2022-04-12T02:20:33.428146Z",
     "iopub.status.busy": "2022-04-12T02:20:33.427224Z",
     "iopub.status.idle": "2022-04-12T02:20:33.432264Z",
     "shell.execute_reply": "2022-04-12T02:20:33.432663Z",
     "shell.execute_reply.started": "2022-04-12T02:05:32.661745Z"
    },
    "papermill": {
     "duration": 0.066284,
     "end_time": "2022-04-12T02:20:33.432825",
     "exception": false,
     "start_time": "2022-04-12T02:20:33.366541",
     "status": "completed"
    },
    "tags": []
   },
   "outputs": [],
   "source": [
    "cause_symptom = ['SMOKING', 'ALCOHOL CONSUMING',\n",
    "                 'SHORTNESS OF BREATH', 'FATIGUE ', 'COUGHING', 'WHEEZING',\n",
    "                 'CHEST PAIN', 'ALLERGY ', 'YELLOW_FINGERS', 'CHRONIC DISEASE',\n",
    "                 'LUNG_CANCER',]\n",
    "df_cause_symptom = df_raw[cause_symptom].copy()"
   ]
  },
  {
   "cell_type": "code",
   "execution_count": 29,
   "metadata": {
    "execution": {
     "iopub.execute_input": "2022-04-12T02:20:33.552944Z",
     "iopub.status.busy": "2022-04-12T02:20:33.552340Z",
     "iopub.status.idle": "2022-04-12T02:20:33.563044Z",
     "shell.execute_reply": "2022-04-12T02:20:33.563581Z",
     "shell.execute_reply.started": "2022-04-12T02:05:33.594485Z"
    },
    "papermill": {
     "duration": 0.071972,
     "end_time": "2022-04-12T02:20:33.563753",
     "exception": false,
     "start_time": "2022-04-12T02:20:33.491781",
     "status": "completed"
    },
    "tags": []
   },
   "outputs": [
    {
     "data": {
      "text/html": [
       "<div>\n",
       "<style scoped>\n",
       "    .dataframe tbody tr th:only-of-type {\n",
       "        vertical-align: middle;\n",
       "    }\n",
       "\n",
       "    .dataframe tbody tr th {\n",
       "        vertical-align: top;\n",
       "    }\n",
       "\n",
       "    .dataframe thead th {\n",
       "        text-align: right;\n",
       "    }\n",
       "</style>\n",
       "<table border=\"1\" class=\"dataframe\">\n",
       "  <thead>\n",
       "    <tr style=\"text-align: right;\">\n",
       "      <th></th>\n",
       "      <th>SMOKING</th>\n",
       "      <th>ALCOHOL CONSUMING</th>\n",
       "      <th>SHORTNESS OF BREATH</th>\n",
       "      <th>FATIGUE</th>\n",
       "      <th>COUGHING</th>\n",
       "      <th>WHEEZING</th>\n",
       "      <th>CHEST PAIN</th>\n",
       "      <th>ALLERGY</th>\n",
       "      <th>YELLOW_FINGERS</th>\n",
       "      <th>CHRONIC DISEASE</th>\n",
       "      <th>LUNG_CANCER</th>\n",
       "    </tr>\n",
       "  </thead>\n",
       "  <tbody>\n",
       "    <tr>\n",
       "      <th>0</th>\n",
       "      <td>1</td>\n",
       "      <td>2</td>\n",
       "      <td>2</td>\n",
       "      <td>2</td>\n",
       "      <td>2</td>\n",
       "      <td>2</td>\n",
       "      <td>2</td>\n",
       "      <td>1</td>\n",
       "      <td>2</td>\n",
       "      <td>1</td>\n",
       "      <td>YES</td>\n",
       "    </tr>\n",
       "    <tr>\n",
       "      <th>1</th>\n",
       "      <td>2</td>\n",
       "      <td>1</td>\n",
       "      <td>2</td>\n",
       "      <td>2</td>\n",
       "      <td>1</td>\n",
       "      <td>1</td>\n",
       "      <td>2</td>\n",
       "      <td>2</td>\n",
       "      <td>1</td>\n",
       "      <td>2</td>\n",
       "      <td>YES</td>\n",
       "    </tr>\n",
       "    <tr>\n",
       "      <th>2</th>\n",
       "      <td>1</td>\n",
       "      <td>1</td>\n",
       "      <td>2</td>\n",
       "      <td>2</td>\n",
       "      <td>2</td>\n",
       "      <td>2</td>\n",
       "      <td>2</td>\n",
       "      <td>1</td>\n",
       "      <td>1</td>\n",
       "      <td>1</td>\n",
       "      <td>NO</td>\n",
       "    </tr>\n",
       "    <tr>\n",
       "      <th>3</th>\n",
       "      <td>2</td>\n",
       "      <td>2</td>\n",
       "      <td>1</td>\n",
       "      <td>1</td>\n",
       "      <td>1</td>\n",
       "      <td>1</td>\n",
       "      <td>2</td>\n",
       "      <td>1</td>\n",
       "      <td>2</td>\n",
       "      <td>1</td>\n",
       "      <td>NO</td>\n",
       "    </tr>\n",
       "    <tr>\n",
       "      <th>4</th>\n",
       "      <td>1</td>\n",
       "      <td>1</td>\n",
       "      <td>2</td>\n",
       "      <td>1</td>\n",
       "      <td>2</td>\n",
       "      <td>2</td>\n",
       "      <td>1</td>\n",
       "      <td>1</td>\n",
       "      <td>2</td>\n",
       "      <td>1</td>\n",
       "      <td>NO</td>\n",
       "    </tr>\n",
       "  </tbody>\n",
       "</table>\n",
       "</div>"
      ],
      "text/plain": [
       "   SMOKING  ALCOHOL CONSUMING  SHORTNESS OF BREATH  FATIGUE   COUGHING  \\\n",
       "0        1                  2                    2         2         2   \n",
       "1        2                  1                    2         2         1   \n",
       "2        1                  1                    2         2         2   \n",
       "3        2                  2                    1         1         1   \n",
       "4        1                  1                    2         1         2   \n",
       "\n",
       "   WHEEZING  CHEST PAIN  ALLERGY   YELLOW_FINGERS  CHRONIC DISEASE LUNG_CANCER  \n",
       "0         2           2         1               2                1         YES  \n",
       "1         1           2         2               1                2         YES  \n",
       "2         2           2         1               1                1          NO  \n",
       "3         1           2         1               2                1          NO  \n",
       "4         2           1         1               2                1          NO  "
      ]
     },
     "execution_count": 29,
     "metadata": {},
     "output_type": "execute_result"
    }
   ],
   "source": [
    "df_cause_symptom.head(5)"
   ]
  },
  {
   "cell_type": "code",
   "execution_count": 30,
   "metadata": {
    "execution": {
     "iopub.execute_input": "2022-04-12T02:20:33.686073Z",
     "iopub.status.busy": "2022-04-12T02:20:33.685455Z",
     "iopub.status.idle": "2022-04-12T02:20:33.692451Z",
     "shell.execute_reply": "2022-04-12T02:20:33.692927Z",
     "shell.execute_reply.started": "2022-04-12T02:05:34.769405Z"
    },
    "papermill": {
     "duration": 0.069034,
     "end_time": "2022-04-12T02:20:33.693096",
     "exception": false,
     "start_time": "2022-04-12T02:20:33.624062",
     "status": "completed"
    },
    "tags": []
   },
   "outputs": [
    {
     "name": "stdout",
     "output_type": "stream",
     "text": [
      "Total Cancer positive Patients : 270 \n",
      "Total Cancer negative Patients : 39 \n"
     ]
    }
   ],
   "source": [
    "print ('Total Cancer positive Patients : {} '.format(df_cause_symptom['LUNG_CANCER'].value_counts()['YES']))\n",
    "print ('Total Cancer negative Patients : {} '.format(df_cause_symptom['LUNG_CANCER'].value_counts()['NO']))"
   ]
  },
  {
   "cell_type": "code",
   "execution_count": 31,
   "metadata": {
    "execution": {
     "iopub.execute_input": "2022-04-12T02:20:33.831968Z",
     "iopub.status.busy": "2022-04-12T02:20:33.831335Z",
     "iopub.status.idle": "2022-04-12T02:20:33.903065Z",
     "shell.execute_reply": "2022-04-12T02:20:33.904454Z",
     "shell.execute_reply.started": "2022-04-12T02:06:23.686625Z"
    },
    "papermill": {
     "duration": 0.152551,
     "end_time": "2022-04-12T02:20:33.904774",
     "exception": false,
     "start_time": "2022-04-12T02:20:33.752223",
     "status": "completed"
    },
    "tags": []
   },
   "outputs": [
    {
     "data": {
      "image/png": "[encoded data removed]",
      "text/plain": [
       "<Figure size 432x288 with 1 Axes>"
      ]
     },
     "metadata": {},
     "output_type": "display_data"
    }
   ],
   "source": [
    "values = df_cause_symptom['LUNG_CANCER'].value_counts().tolist()\n",
    "names = list(dict(df_cause_symptom['LUNG_CANCER'].value_counts()).keys())\n",
    "\n",
    "colors = sns.color_palette('bright')\n",
    "plt.figure()\n",
    "plt.pie(values, labels=names,colors = colors, autopct = '%0.0f%%')\n",
    "plt.show()"
   ]
  },
  {
   "cell_type": "markdown",
   "metadata": {
    "papermill": {
     "duration": 0.059771,
     "end_time": "2022-04-12T02:20:34.069574",
     "exception": false,
     "start_time": "2022-04-12T02:20:34.009803",
     "status": "completed"
    },
    "tags": []
   },
   "source": [
    "* The data is imbalanced: There are way more cancer-positive patients than cancer-negative patients. Therfore, before trying to develop a model, the dataset needs to be balanced."
   ]
  },
  {
   "cell_type": "code",
   "execution_count": 32,
   "metadata": {
    "execution": {
     "iopub.execute_input": "2022-04-12T02:20:34.205354Z",
     "iopub.status.busy": "2022-04-12T02:20:34.204694Z",
     "iopub.status.idle": "2022-04-12T02:20:34.208617Z",
     "shell.execute_reply": "2022-04-12T02:20:34.208095Z",
     "shell.execute_reply.started": "2022-04-12T02:06:25.466409Z"
    },
    "papermill": {
     "duration": 0.076642,
     "end_time": "2022-04-12T02:20:34.208761",
     "exception": false,
     "start_time": "2022-04-12T02:20:34.132119",
     "status": "completed"
    },
    "tags": []
   },
   "outputs": [
    {
     "data": {
      "text/html": [
       "<div>\n",
       "<style scoped>\n",
       "    .dataframe tbody tr th:only-of-type {\n",
       "        vertical-align: middle;\n",
       "    }\n",
       "\n",
       "    .dataframe tbody tr th {\n",
       "        vertical-align: top;\n",
       "    }\n",
       "\n",
       "    .dataframe thead th {\n",
       "        text-align: right;\n",
       "    }\n",
       "</style>\n",
       "<table border=\"1\" class=\"dataframe\">\n",
       "  <thead>\n",
       "    <tr style=\"text-align: right;\">\n",
       "      <th></th>\n",
       "      <th>SMOKING</th>\n",
       "      <th>ALCOHOL CONSUMING</th>\n",
       "      <th>SHORTNESS OF BREATH</th>\n",
       "      <th>FATIGUE</th>\n",
       "      <th>COUGHING</th>\n",
       "      <th>WHEEZING</th>\n",
       "      <th>CHEST PAIN</th>\n",
       "      <th>ALLERGY</th>\n",
       "      <th>YELLOW_FINGERS</th>\n",
       "      <th>CHRONIC DISEASE</th>\n",
       "      <th>LUNG_CANCER</th>\n",
       "    </tr>\n",
       "  </thead>\n",
       "  <tbody>\n",
       "    <tr>\n",
       "      <th>0</th>\n",
       "      <td>1</td>\n",
       "      <td>2</td>\n",
       "      <td>2</td>\n",
       "      <td>2</td>\n",
       "      <td>2</td>\n",
       "      <td>2</td>\n",
       "      <td>2</td>\n",
       "      <td>1</td>\n",
       "      <td>2</td>\n",
       "      <td>1</td>\n",
       "      <td>2</td>\n",
       "    </tr>\n",
       "    <tr>\n",
       "      <th>1</th>\n",
       "      <td>2</td>\n",
       "      <td>1</td>\n",
       "      <td>2</td>\n",
       "      <td>2</td>\n",
       "      <td>1</td>\n",
       "      <td>1</td>\n",
       "      <td>2</td>\n",
       "      <td>2</td>\n",
       "      <td>1</td>\n",
       "      <td>2</td>\n",
       "      <td>2</td>\n",
       "    </tr>\n",
       "    <tr>\n",
       "      <th>2</th>\n",
       "      <td>1</td>\n",
       "      <td>1</td>\n",
       "      <td>2</td>\n",
       "      <td>2</td>\n",
       "      <td>2</td>\n",
       "      <td>2</td>\n",
       "      <td>2</td>\n",
       "      <td>1</td>\n",
       "      <td>1</td>\n",
       "      <td>1</td>\n",
       "      <td>1</td>\n",
       "    </tr>\n",
       "    <tr>\n",
       "      <th>3</th>\n",
       "      <td>2</td>\n",
       "      <td>2</td>\n",
       "      <td>1</td>\n",
       "      <td>1</td>\n",
       "      <td>1</td>\n",
       "      <td>1</td>\n",
       "      <td>2</td>\n",
       "      <td>1</td>\n",
       "      <td>2</td>\n",
       "      <td>1</td>\n",
       "      <td>1</td>\n",
       "    </tr>\n",
       "    <tr>\n",
       "      <th>4</th>\n",
       "      <td>1</td>\n",
       "      <td>1</td>\n",
       "      <td>2</td>\n",
       "      <td>1</td>\n",
       "      <td>2</td>\n",
       "      <td>2</td>\n",
       "      <td>1</td>\n",
       "      <td>1</td>\n",
       "      <td>2</td>\n",
       "      <td>1</td>\n",
       "      <td>1</td>\n",
       "    </tr>\n",
       "  </tbody>\n",
       "</table>\n",
       "</div>"
      ],
      "text/plain": [
       "   SMOKING  ALCOHOL CONSUMING  SHORTNESS OF BREATH  FATIGUE   COUGHING  \\\n",
       "0        1                  2                    2         2         2   \n",
       "1        2                  1                    2         2         1   \n",
       "2        1                  1                    2         2         2   \n",
       "3        2                  2                    1         1         1   \n",
       "4        1                  1                    2         1         2   \n",
       "\n",
       "   WHEEZING  CHEST PAIN  ALLERGY   YELLOW_FINGERS  CHRONIC DISEASE  \\\n",
       "0         2           2         1               2                1   \n",
       "1         1           2         2               1                2   \n",
       "2         2           2         1               1                1   \n",
       "3         1           2         1               2                1   \n",
       "4         2           1         1               2                1   \n",
       "\n",
       "   LUNG_CANCER  \n",
       "0            2  \n",
       "1            2  \n",
       "2            1  \n",
       "3            1  \n",
       "4            1  "
      ]
     },
     "execution_count": 32,
     "metadata": {},
     "output_type": "execute_result"
    }
   ],
   "source": [
    "key_rev = {'YES' : 2, 'NO' : 1}\n",
    "\n",
    "df_cause_symptom = df_cause_symptom.replace(key_rev)\n",
    "df_cause_symptom.head(5)"
   ]
  },
  {
   "cell_type": "code",
   "execution_count": 33,
   "metadata": {
    "execution": {
     "iopub.execute_input": "2022-04-12T02:20:34.342676Z",
     "iopub.status.busy": "2022-04-12T02:20:34.341978Z",
     "iopub.status.idle": "2022-04-12T02:20:34.345445Z",
     "shell.execute_reply": "2022-04-12T02:20:34.346004Z",
     "shell.execute_reply.started": "2022-04-12T02:06:26.311224Z"
    },
    "papermill": {
     "duration": 0.076674,
     "end_time": "2022-04-12T02:20:34.346186",
     "exception": false,
     "start_time": "2022-04-12T02:20:34.269512",
     "status": "completed"
    },
    "tags": []
   },
   "outputs": [
    {
     "data": {
      "text/html": [
       "<div>\n",
       "<style scoped>\n",
       "    .dataframe tbody tr th:only-of-type {\n",
       "        vertical-align: middle;\n",
       "    }\n",
       "\n",
       "    .dataframe tbody tr th {\n",
       "        vertical-align: top;\n",
       "    }\n",
       "\n",
       "    .dataframe thead th {\n",
       "        text-align: right;\n",
       "    }\n",
       "</style>\n",
       "<table border=\"1\" class=\"dataframe\">\n",
       "  <thead>\n",
       "    <tr style=\"text-align: right;\">\n",
       "      <th></th>\n",
       "      <th>SMOKING</th>\n",
       "      <th>ALCOHOL CONSUMING</th>\n",
       "      <th>SHORTNESS OF BREATH</th>\n",
       "      <th>FATIGUE</th>\n",
       "      <th>COUGHING</th>\n",
       "      <th>WHEEZING</th>\n",
       "      <th>CHEST PAIN</th>\n",
       "      <th>ALLERGY</th>\n",
       "      <th>YELLOW_FINGERS</th>\n",
       "      <th>CHRONIC DISEASE</th>\n",
       "    </tr>\n",
       "  </thead>\n",
       "  <tbody>\n",
       "    <tr>\n",
       "      <th>0</th>\n",
       "      <td>1</td>\n",
       "      <td>2</td>\n",
       "      <td>2</td>\n",
       "      <td>2</td>\n",
       "      <td>2</td>\n",
       "      <td>2</td>\n",
       "      <td>2</td>\n",
       "      <td>1</td>\n",
       "      <td>2</td>\n",
       "      <td>1</td>\n",
       "    </tr>\n",
       "    <tr>\n",
       "      <th>1</th>\n",
       "      <td>2</td>\n",
       "      <td>1</td>\n",
       "      <td>2</td>\n",
       "      <td>2</td>\n",
       "      <td>1</td>\n",
       "      <td>1</td>\n",
       "      <td>2</td>\n",
       "      <td>2</td>\n",
       "      <td>1</td>\n",
       "      <td>2</td>\n",
       "    </tr>\n",
       "    <tr>\n",
       "      <th>2</th>\n",
       "      <td>1</td>\n",
       "      <td>1</td>\n",
       "      <td>2</td>\n",
       "      <td>2</td>\n",
       "      <td>2</td>\n",
       "      <td>2</td>\n",
       "      <td>2</td>\n",
       "      <td>1</td>\n",
       "      <td>1</td>\n",
       "      <td>1</td>\n",
       "    </tr>\n",
       "    <tr>\n",
       "      <th>3</th>\n",
       "      <td>2</td>\n",
       "      <td>2</td>\n",
       "      <td>1</td>\n",
       "      <td>1</td>\n",
       "      <td>1</td>\n",
       "      <td>1</td>\n",
       "      <td>2</td>\n",
       "      <td>1</td>\n",
       "      <td>2</td>\n",
       "      <td>1</td>\n",
       "    </tr>\n",
       "    <tr>\n",
       "      <th>4</th>\n",
       "      <td>1</td>\n",
       "      <td>1</td>\n",
       "      <td>2</td>\n",
       "      <td>1</td>\n",
       "      <td>2</td>\n",
       "      <td>2</td>\n",
       "      <td>1</td>\n",
       "      <td>1</td>\n",
       "      <td>2</td>\n",
       "      <td>1</td>\n",
       "    </tr>\n",
       "  </tbody>\n",
       "</table>\n",
       "</div>"
      ],
      "text/plain": [
       "   SMOKING  ALCOHOL CONSUMING  SHORTNESS OF BREATH  FATIGUE   COUGHING  \\\n",
       "0        1                  2                    2         2         2   \n",
       "1        2                  1                    2         2         1   \n",
       "2        1                  1                    2         2         2   \n",
       "3        2                  2                    1         1         1   \n",
       "4        1                  1                    2         1         2   \n",
       "\n",
       "   WHEEZING  CHEST PAIN  ALLERGY   YELLOW_FINGERS  CHRONIC DISEASE  \n",
       "0         2           2         1               2                1  \n",
       "1         1           2         2               1                2  \n",
       "2         2           2         1               1                1  \n",
       "3         1           2         1               2                1  \n",
       "4         2           1         1               2                1  "
      ]
     },
     "execution_count": 33,
     "metadata": {},
     "output_type": "execute_result"
    }
   ],
   "source": [
    "X = df_cause_symptom.drop('LUNG_CANCER', axis = 1)\n",
    "X.head(5)"
   ]
  },
  {
   "cell_type": "code",
   "execution_count": 34,
   "metadata": {
    "execution": {
     "iopub.execute_input": "2022-04-12T02:20:34.471999Z",
     "iopub.status.busy": "2022-04-12T02:20:34.471375Z",
     "iopub.status.idle": "2022-04-12T02:20:34.477099Z",
     "shell.execute_reply": "2022-04-12T02:20:34.477560Z",
     "shell.execute_reply.started": "2022-04-12T02:06:27.165386Z"
    },
    "papermill": {
     "duration": 0.070683,
     "end_time": "2022-04-12T02:20:34.477725",
     "exception": false,
     "start_time": "2022-04-12T02:20:34.407042",
     "status": "completed"
    },
    "tags": []
   },
   "outputs": [
    {
     "data": {
      "text/plain": [
       "0    2\n",
       "1    2\n",
       "2    1\n",
       "3    1\n",
       "4    1\n",
       "Name: LUNG_CANCER, dtype: int64"
      ]
     },
     "execution_count": 34,
     "metadata": {},
     "output_type": "execute_result"
    }
   ],
   "source": [
    "y = df_cause_symptom['LUNG_CANCER']\n",
    "y.head(5)"
   ]
  },
  {
   "cell_type": "markdown",
   "metadata": {
    "papermill": {
     "duration": 0.060324,
     "end_time": "2022-04-12T02:20:34.599100",
     "exception": false,
     "start_time": "2022-04-12T02:20:34.538776",
     "status": "completed"
    },
    "tags": []
   },
   "source": [
    "#### Balancing data"
   ]
  },
  {
   "cell_type": "code",
   "execution_count": null,
   "metadata": {},
   "outputs": [],
   "source": []
  },
  {
   "cell_type": "code",
   "execution_count": 35,
   "metadata": {
    "execution": {
     "iopub.execute_input": "2022-04-12T02:20:34.725483Z",
     "iopub.status.busy": "2022-04-12T02:20:34.724782Z",
     "iopub.status.idle": "2022-04-12T02:20:35.097062Z",
     "shell.execute_reply": "2022-04-12T02:20:35.096540Z",
     "shell.execute_reply.started": "2022-04-12T02:06:30.100333Z"
    },
    "papermill": {
     "duration": 0.437269,
     "end_time": "2022-04-12T02:20:35.097222",
     "exception": false,
     "start_time": "2022-04-12T02:20:34.659953",
     "status": "completed"
    },
    "tags": []
   },
   "outputs": [
    {
     "data": {
      "text/plain": [
       "((540, 10), (540,))"
      ]
     },
     "execution_count": 35,
     "metadata": {},
     "output_type": "execute_result"
    }
   ],
   "source": [
    "# Adding randomized samples to the data as the data is imbalanced\n",
    "from imblearn.over_sampling import RandomOverSampler\n",
    "\n",
    "over_samp =  RandomOverSampler(random_state=0)\n",
    "X_train_res, y_train_res = over_samp.fit_resample(X, y)\n",
    "X_train_res.shape, y_train_res.shape"
   ]
  },
  {
   "cell_type": "code",
   "execution_count": 36,
   "metadata": {
    "execution": {
     "iopub.execute_input": "2022-04-12T02:20:35.229769Z",
     "iopub.status.busy": "2022-04-12T02:20:35.229087Z",
     "iopub.status.idle": "2022-04-12T02:20:35.298789Z",
     "shell.execute_reply": "2022-04-12T02:20:35.299613Z",
     "shell.execute_reply.started": "2022-04-12T02:08:28.174566Z"
    },
    "papermill": {
     "duration": 0.139306,
     "end_time": "2022-04-12T02:20:35.299900",
     "exception": false,
     "start_time": "2022-04-12T02:20:35.160594",
     "status": "completed"
    },
    "tags": []
   },
   "outputs": [
    {
     "data": {
      "image/png": "[encoded data removed]",
      "text/plain": [
       "<Figure size 432x288 with 1 Axes>"
      ]
     },
     "metadata": {},
     "output_type": "display_data"
    }
   ],
   "source": [
    "values = y_train_res.value_counts().tolist()\n",
    "colors = sns.color_palette('bright')\n",
    "plt.figure()\n",
    "plt.pie(values, labels=names,colors = colors, autopct = '%0.0f%%')\n",
    "plt.show()"
   ]
  },
  {
   "cell_type": "markdown",
   "metadata": {
    "execution": {
     "iopub.execute_input": "2022-04-12T02:06:45.607569Z",
     "iopub.status.busy": "2022-04-12T02:06:45.607296Z",
     "iopub.status.idle": "2022-04-12T02:06:45.613243Z",
     "shell.execute_reply": "2022-04-12T02:06:45.612174Z",
     "shell.execute_reply.started": "2022-04-12T02:06:45.607537Z"
    },
    "papermill": {
     "duration": 0.061615,
     "end_time": "2022-04-12T02:20:35.469806",
     "exception": false,
     "start_time": "2022-04-12T02:20:35.408191",
     "status": "completed"
    },
    "tags": []
   },
   "source": [
    "#### Splitting data into Train and Test"
   ]
  },
  {
   "cell_type": "code",
   "execution_count": 37,
   "metadata": {
    "execution": {
     "iopub.execute_input": "2022-04-12T02:20:35.597275Z",
     "iopub.status.busy": "2022-04-12T02:20:35.596587Z",
     "iopub.status.idle": "2022-04-12T02:20:35.603103Z",
     "shell.execute_reply": "2022-04-12T02:20:35.603557Z",
     "shell.execute_reply.started": "2022-04-12T02:10:12.557675Z"
    },
    "papermill": {
     "duration": 0.072484,
     "end_time": "2022-04-12T02:20:35.603723",
     "exception": false,
     "start_time": "2022-04-12T02:20:35.531239",
     "status": "completed"
    },
    "tags": []
   },
   "outputs": [
    {
     "data": {
      "text/plain": [
       "(432, 108)"
      ]
     },
     "execution_count": 37,
     "metadata": {},
     "output_type": "execute_result"
    }
   ],
   "source": [
    "X_train, X_test, y_train, y_test = train_test_split(X_train_res, y_train_res, test_size = 0.2, random_state = 42)\n",
    "len(X_train), len(X_test)"
   ]
  },
  {
   "cell_type": "markdown",
   "metadata": {
    "papermill": {
     "duration": 0.0616,
     "end_time": "2022-04-12T02:20:35.726784",
     "exception": false,
     "start_time": "2022-04-12T02:20:35.665184",
     "status": "completed"
    },
    "tags": []
   },
   "source": [
    "#### Scale the data"
   ]
  },
  {
   "cell_type": "code",
   "execution_count": 38,
   "metadata": {
    "execution": {
     "iopub.execute_input": "2022-04-12T02:20:35.859828Z",
     "iopub.status.busy": "2022-04-12T02:20:35.856372Z",
     "iopub.status.idle": "2022-04-12T02:20:35.863464Z",
     "shell.execute_reply": "2022-04-12T02:20:35.863007Z",
     "shell.execute_reply.started": "2022-04-12T02:11:09.493578Z"
    },
    "papermill": {
     "duration": 0.074845,
     "end_time": "2022-04-12T02:20:35.863602",
     "exception": false,
     "start_time": "2022-04-12T02:20:35.788757",
     "status": "completed"
    },
    "tags": []
   },
   "outputs": [],
   "source": [
    "# Scaling the data \n",
    "\n",
    "scaler = StandardScaler()\n",
    "X_train = scaler.fit_transform(X_train)\n",
    "X_test = scaler.transform(X_test)"
   ]
  },
  {
   "cell_type": "code",
   "execution_count": 39,
   "metadata": {
    "execution": {
     "iopub.execute_input": "2022-04-12T02:20:35.992330Z",
     "iopub.status.busy": "2022-04-12T02:20:35.991577Z",
     "iopub.status.idle": "2022-04-12T02:20:36.246708Z",
     "shell.execute_reply": "2022-04-12T02:20:36.246233Z",
     "shell.execute_reply.started": "2022-04-12T02:11:54.985390Z"
    },
    "papermill": {
     "duration": 0.320591,
     "end_time": "2022-04-12T02:20:36.246849",
     "exception": false,
     "start_time": "2022-04-12T02:20:35.926258",
     "status": "completed"
    },
    "tags": []
   },
   "outputs": [
    {
     "data": {
      "image/png": "[encoded data removed]",
      "text/plain": [
       "<Figure size 576x360 with 1 Axes>"
      ]
     },
     "metadata": {
      "needs_background": "light"
     },
     "output_type": "display_data"
    }
   ],
   "source": [
    "plt.figure(figsize=(8,5))\n",
    "plt.title(\"Data after Scaling\")\n",
    "sns.boxenplot(data = X_train)\n",
    "plt.show()"
   ]
  },
  {
   "cell_type": "markdown",
   "metadata": {
    "papermill": {
     "duration": 0.062267,
     "end_time": "2022-04-12T02:20:36.375016",
     "exception": false,
     "start_time": "2022-04-12T02:20:36.312749",
     "status": "completed"
    },
    "tags": []
   },
   "source": [
    "#### Differnt ML algorithms"
   ]
  },
  {
   "cell_type": "markdown",
   "metadata": {
    "papermill": {
     "duration": 0.062479,
     "end_time": "2022-04-12T02:20:36.500142",
     "exception": false,
     "start_time": "2022-04-12T02:20:36.437663",
     "status": "completed"
    },
    "tags": []
   },
   "source": [
    "#### Linear Regression"
   ]
  },
  {
   "cell_type": "code",
   "execution_count": 40,
   "metadata": {
    "execution": {
     "iopub.execute_input": "2022-04-12T02:20:36.640457Z",
     "iopub.status.busy": "2022-04-12T02:20:36.636057Z",
     "iopub.status.idle": "2022-04-12T02:20:36.661722Z",
     "shell.execute_reply": "2022-04-12T02:20:36.661104Z",
     "shell.execute_reply.started": "2022-04-12T02:13:24.972345Z"
    },
    "papermill": {
     "duration": 0.094349,
     "end_time": "2022-04-12T02:20:36.661889",
     "exception": false,
     "start_time": "2022-04-12T02:20:36.567540",
     "status": "completed"
    },
    "tags": []
   },
   "outputs": [
    {
     "data": {
      "text/plain": [
       "LinearRegression()"
      ]
     },
     "execution_count": 40,
     "metadata": {},
     "output_type": "execute_result"
    }
   ],
   "source": [
    "from sklearn.linear_model import LinearRegression\n",
    "lr = LinearRegression()\n",
    "lr.fit(X_train, y_train)"
   ]
  },
  {
   "cell_type": "code",
   "execution_count": 41,
   "metadata": {
    "execution": {
     "iopub.execute_input": "2022-04-12T02:20:36.793425Z",
     "iopub.status.busy": "2022-04-12T02:20:36.792763Z",
     "iopub.status.idle": "2022-04-12T02:20:36.799395Z",
     "shell.execute_reply": "2022-04-12T02:20:36.800179Z",
     "shell.execute_reply.started": "2022-04-12T02:13:34.854425Z"
    },
    "papermill": {
     "duration": 0.074174,
     "end_time": "2022-04-12T02:20:36.800484",
     "exception": false,
     "start_time": "2022-04-12T02:20:36.726310",
     "status": "completed"
    },
    "tags": []
   },
   "outputs": [
    {
     "name": "stdout",
     "output_type": "stream",
     "text": [
      "Accuracy obtained by Linear Regression model: 58.36530037464759\n"
     ]
    }
   ],
   "source": [
    "LinearRegressionScore = lr.score(X_test,y_test)\n",
    "print(\"Accuracy obtained by Linear Regression model:\",LinearRegressionScore*100)"
   ]
  },
  {
   "cell_type": "markdown",
   "metadata": {
    "papermill": {
     "duration": 0.064018,
     "end_time": "2022-04-12T02:20:36.930147",
     "exception": false,
     "start_time": "2022-04-12T02:20:36.866129",
     "status": "completed"
    },
    "tags": []
   },
   "source": [
    "#### Random Forest Classifier"
   ]
  },
  {
   "cell_type": "code",
   "execution_count": 42,
   "metadata": {
    "execution": {
     "iopub.execute_input": "2022-04-12T02:20:37.062381Z",
     "iopub.status.busy": "2022-04-12T02:20:37.061752Z",
     "iopub.status.idle": "2022-04-12T02:20:37.201089Z",
     "shell.execute_reply": "2022-04-12T02:20:37.200415Z",
     "shell.execute_reply.started": "2022-04-12T02:14:14.111039Z"
    },
    "papermill": {
     "duration": 0.205778,
     "end_time": "2022-04-12T02:20:37.201268",
     "exception": false,
     "start_time": "2022-04-12T02:20:36.995490",
     "status": "completed"
    },
    "tags": []
   },
   "outputs": [
    {
     "data": {
      "text/plain": [
       "RandomForestClassifier()"
      ]
     },
     "execution_count": 42,
     "metadata": {},
     "output_type": "execute_result"
    }
   ],
   "source": [
    "from sklearn.ensemble import RandomForestClassifier\n",
    "rfc = RandomForestClassifier(n_estimators = 100)\n",
    "rfc.fit(X_train,y_train)"
   ]
  },
  {
   "cell_type": "code",
   "execution_count": 43,
   "metadata": {
    "execution": {
     "iopub.execute_input": "2022-04-12T02:20:37.335203Z",
     "iopub.status.busy": "2022-04-12T02:20:37.334531Z",
     "iopub.status.idle": "2022-04-12T02:20:37.349116Z",
     "shell.execute_reply": "2022-04-12T02:20:37.349841Z",
     "shell.execute_reply.started": "2022-04-12T02:14:23.887139Z"
    },
    "papermill": {
     "duration": 0.085227,
     "end_time": "2022-04-12T02:20:37.350049",
     "exception": false,
     "start_time": "2022-04-12T02:20:37.264822",
     "status": "completed"
    },
    "tags": []
   },
   "outputs": [
    {
     "name": "stdout",
     "output_type": "stream",
     "text": [
      "Accuracy obtained by Random Forest Classifier model: 95.37037037037037\n"
     ]
    }
   ],
   "source": [
    "RandomForestClassifierScore = rfc.score(X_test, y_test)\n",
    "print(\"Accuracy obtained by Random Forest Classifier model:\",RandomForestClassifierScore*100)"
   ]
  },
  {
   "cell_type": "markdown",
   "metadata": {
    "papermill": {
     "duration": 0.066425,
     "end_time": "2022-04-12T02:20:37.481339",
     "exception": false,
     "start_time": "2022-04-12T02:20:37.414914",
     "status": "completed"
    },
    "tags": []
   },
   "source": [
    "#### K Neighbours Classifier"
   ]
  },
  {
   "cell_type": "code",
   "execution_count": 44,
   "metadata": {
    "execution": {
     "iopub.execute_input": "2022-04-12T02:20:37.616107Z",
     "iopub.status.busy": "2022-04-12T02:20:37.615452Z",
     "iopub.status.idle": "2022-04-12T02:20:37.624747Z",
     "shell.execute_reply": "2022-04-12T02:20:37.624254Z",
     "shell.execute_reply.started": "2022-04-12T02:14:50.831329Z"
    },
    "papermill": {
     "duration": 0.079136,
     "end_time": "2022-04-12T02:20:37.624906",
     "exception": false,
     "start_time": "2022-04-12T02:20:37.545770",
     "status": "completed"
    },
    "tags": []
   },
   "outputs": [
    {
     "data": {
      "text/plain": [
       "KNeighborsClassifier()"
      ]
     },
     "execution_count": 44,
     "metadata": {},
     "output_type": "execute_result"
    }
   ],
   "source": [
    "from sklearn.neighbors import KNeighborsClassifier\n",
    "knn = KNeighborsClassifier()\n",
    "knn.fit(X_train,y_train)"
   ]
  },
  {
   "cell_type": "code",
   "execution_count": 45,
   "metadata": {
    "execution": {
     "iopub.execute_input": "2022-04-12T02:20:37.786929Z",
     "iopub.status.busy": "2022-04-12T02:20:37.786260Z",
     "iopub.status.idle": "2022-04-12T02:20:37.797698Z",
     "shell.execute_reply": "2022-04-12T02:20:37.798220Z",
     "shell.execute_reply.started": "2022-04-12T02:15:01.865347Z"
    },
    "papermill": {
     "duration": 0.091314,
     "end_time": "2022-04-12T02:20:37.798393",
     "exception": false,
     "start_time": "2022-04-12T02:20:37.707079",
     "status": "completed"
    },
    "tags": []
   },
   "outputs": [
    {
     "name": "stdout",
     "output_type": "stream",
     "text": [
      "Accuracy obtained by K Neighbors Classifier model: 90.74074074074075\n"
     ]
    }
   ],
   "source": [
    "KNeighborsClassifierScore = knn.score(X_test, y_test)\n",
    "print(\"Accuracy obtained by K Neighbors Classifier model:\",KNeighborsClassifierScore*100)"
   ]
  },
  {
   "cell_type": "markdown",
   "metadata": {
    "papermill": {
     "duration": 0.064097,
     "end_time": "2022-04-12T02:20:37.927539",
     "exception": false,
     "start_time": "2022-04-12T02:20:37.863442",
     "status": "completed"
    },
    "tags": []
   },
   "source": [
    "#### Decision Tree Classifier"
   ]
  },
  {
   "cell_type": "code",
   "execution_count": 46,
   "metadata": {
    "execution": {
     "iopub.execute_input": "2022-04-12T02:20:38.064717Z",
     "iopub.status.busy": "2022-04-12T02:20:38.064065Z",
     "iopub.status.idle": "2022-04-12T02:20:38.068786Z",
     "shell.execute_reply": "2022-04-12T02:20:38.069357Z",
     "shell.execute_reply.started": "2022-04-12T02:15:31.063461Z"
    },
    "papermill": {
     "duration": 0.075644,
     "end_time": "2022-04-12T02:20:38.069528",
     "exception": false,
     "start_time": "2022-04-12T02:20:37.993884",
     "status": "completed"
    },
    "tags": []
   },
   "outputs": [
    {
     "data": {
      "text/plain": [
       "DecisionTreeClassifier()"
      ]
     },
     "execution_count": 46,
     "metadata": {},
     "output_type": "execute_result"
    }
   ],
   "source": [
    "from sklearn.tree import DecisionTreeClassifier\n",
    "dtc = DecisionTreeClassifier()\n",
    "dtc.fit(X_train, y_train)"
   ]
  },
  {
   "cell_type": "code",
   "execution_count": 47,
   "metadata": {
    "execution": {
     "iopub.execute_input": "2022-04-12T02:20:38.207291Z",
     "iopub.status.busy": "2022-04-12T02:20:38.206673Z",
     "iopub.status.idle": "2022-04-12T02:20:38.212510Z",
     "shell.execute_reply": "2022-04-12T02:20:38.213330Z",
     "shell.execute_reply.started": "2022-04-12T02:15:40.847665Z"
    },
    "papermill": {
     "duration": 0.077494,
     "end_time": "2022-04-12T02:20:38.213626",
     "exception": false,
     "start_time": "2022-04-12T02:20:38.136132",
     "status": "completed"
    },
    "tags": []
   },
   "outputs": [
    {
     "name": "stdout",
     "output_type": "stream",
     "text": [
      "Accuracy obtained by Decision Tree Classifier model: 94.44444444444444\n"
     ]
    }
   ],
   "source": [
    "DecisionTreeClassifierScore = dtc.score(X_test,y_test)\n",
    "print(\"Accuracy obtained by Decision Tree Classifier model:\",DecisionTreeClassifierScore*100)"
   ]
  },
  {
   "cell_type": "markdown",
   "metadata": {
    "papermill": {
     "duration": 0.065871,
     "end_time": "2022-04-12T02:20:38.346125",
     "exception": false,
     "start_time": "2022-04-12T02:20:38.280254",
     "status": "completed"
    },
    "tags": []
   },
   "source": [
    "#### Gradient Boosting classifier"
   ]
  },
  {
   "cell_type": "code",
   "execution_count": 48,
   "metadata": {
    "execution": {
     "iopub.execute_input": "2022-04-12T02:20:38.479583Z",
     "iopub.status.busy": "2022-04-12T02:20:38.478874Z",
     "iopub.status.idle": "2022-04-12T02:20:38.556845Z",
     "shell.execute_reply": "2022-04-12T02:20:38.556111Z",
     "shell.execute_reply.started": "2022-04-12T02:16:18.100226Z"
    },
    "papermill": {
     "duration": 0.146041,
     "end_time": "2022-04-12T02:20:38.557009",
     "exception": false,
     "start_time": "2022-04-12T02:20:38.410968",
     "status": "completed"
    },
    "tags": []
   },
   "outputs": [
    {
     "data": {
      "text/plain": [
       "GradientBoostingClassifier()"
      ]
     },
     "execution_count": 48,
     "metadata": {},
     "output_type": "execute_result"
    }
   ],
   "source": [
    "from sklearn.ensemble import GradientBoostingClassifier\n",
    "gb = GradientBoostingClassifier()\n",
    "gb.fit(X_train, y_train)"
   ]
  },
  {
   "cell_type": "code",
   "execution_count": 49,
   "metadata": {
    "execution": {
     "iopub.execute_input": "2022-04-12T02:20:38.695897Z",
     "iopub.status.busy": "2022-04-12T02:20:38.695117Z",
     "iopub.status.idle": "2022-04-12T02:20:38.701143Z",
     "shell.execute_reply": "2022-04-12T02:20:38.701635Z",
     "shell.execute_reply.started": "2022-04-12T02:16:30.242900Z"
    },
    "papermill": {
     "duration": 0.078258,
     "end_time": "2022-04-12T02:20:38.701809",
     "exception": false,
     "start_time": "2022-04-12T02:20:38.623551",
     "status": "completed"
    },
    "tags": []
   },
   "outputs": [
    {
     "name": "stdout",
     "output_type": "stream",
     "text": [
      "Accuracy obtained by Gradient Boosting Classifier model: 94.44444444444444\n"
     ]
    }
   ],
   "source": [
    "GradientBoostingClassifierScore = gb.score(X_test,y_test)\n",
    "print(\"Accuracy obtained by Gradient Boosting Classifier model:\",GradientBoostingClassifierScore*100)"
   ]
  },
  {
   "cell_type": "markdown",
   "metadata": {
    "papermill": {
     "duration": 0.067898,
     "end_time": "2022-04-12T02:20:39.768443",
     "exception": false,
     "start_time": "2022-04-12T02:20:39.700545",
     "status": "completed"
    },
    "tags": []
   },
   "source": [
    "#### Comparison"
   ]
  },
  {
   "cell_type": "code",
   "execution_count": 60,
   "metadata": {
    "execution": {
     "iopub.execute_input": "2022-04-12T02:20:39.914295Z",
     "iopub.status.busy": "2022-04-12T02:20:39.913266Z",
     "iopub.status.idle": "2022-04-12T02:20:40.126773Z",
     "shell.execute_reply": "2022-04-12T02:20:40.127248Z",
     "shell.execute_reply.started": "2022-04-12T02:18:59.133619Z"
    },
    "papermill": {
     "duration": 0.290984,
     "end_time": "2022-04-12T02:20:40.127425",
     "exception": false,
     "start_time": "2022-04-12T02:20:39.836441",
     "status": "completed"
    },
    "tags": []
   },
   "outputs": [
    {
     "data": {
      "image/png": "[encoded data removed]",
      "text/plain": [
       "<Figure size 576x432 with 1 Axes>"
      ]
     },
     "metadata": {},
     "output_type": "display_data"
    }
   ],
   "source": [
    "plt.style.use(\"seaborn\")\n",
    "\n",
    "x = [\"Linear Regression\", \n",
    "     \"Decision Tree Classifier\", \n",
    "     \"Random Forest Classifier\", \n",
    "     \"K Neighbors Classifier\",  \n",
    "     \"Gradient Boosting Classifier\"\n",
    "    ]\n",
    "\n",
    "y_ = [LinearRegressionScore, \n",
    "     DecisionTreeClassifierScore, \n",
    "     RandomForestClassifierScore, \n",
    "     KNeighborsClassifierScore,  \n",
    "     GradientBoostingClassifierScore]\n",
    "\n",
    "fig, ax = plt.subplots(figsize=(8,6))\n",
    "plt.bar(x,y_)\n",
    "plt.ylabel(\"Model Accuracy\")\n",
    "plt.xticks(rotation=40, fontsize=14)\n",
    "plt.title(\"Model Comparison - Model Accuracy\", fontsize=20, y=1.03)\n",
    "plt.ylim([0,1])\n",
    "plt.show()"
   ]
  },
  {
   "cell_type": "markdown",
   "metadata": {
    "papermill": {
     "duration": 0.078296,
     "end_time": "2022-04-12T02:20:40.281074",
     "exception": false,
     "start_time": "2022-04-12T02:20:40.202778",
     "status": "completed"
    },
    "tags": []
   },
   "source": [
    "Conclusion:\n",
    "* It seems that Random Forest Classifier seem to perform the best with ~95% accuracy to predict presence of lung cancer on the given data set."
   ]
  },
  {
   "cell_type": "markdown",
   "metadata": {
    "papermill": {
     "duration": 0.073655,
     "end_time": "2022-04-12T02:20:40.426394",
     "exception": false,
     "start_time": "2022-04-12T02:20:40.352739",
     "status": "completed"
    },
    "tags": []
   },
   "source": []
  },
  {
   "cell_type": "code",
   "execution_count": null,
   "metadata": {
    "papermill": {
     "duration": 0.073393,
     "end_time": "2022-04-12T02:20:40.574776",
     "exception": false,
     "start_time": "2022-04-12T02:20:40.501383",
     "status": "completed"
    },
    "tags": []
   },
   "outputs": [],
   "source": []
  },
  {
   "cell_type": "code",
   "execution_count": null,
   "metadata": {},
   "outputs": [],
   "source": []
  }
 ],
 "metadata": {
  "kernelspec": {
   "display_name": "Python 3",
   "language": "python",
   "name": "python3"
  },
  "language_info": {
   "codemirror_mode": {
    "name": "ipython",
    "version": 3
   },
   "file_extension": ".py",
   "mimetype": "text/x-python",
   "name": "python",
   "nbconvert_exporter": "python",
   "pygments_lexer": "ipython3",
   "version": "3.7.3"
  },
  "papermill": {
   "default_parameters": {},
   "duration": 25.293552,
   "end_time": "2022-04-12T02:20:41.457913",
   "environment_variables": {},
   "exception": null,
   "input_path": "__notebook__.ipynb",
   "output_path": "__notebook__.ipynb",
   "parameters": {},
   "start_time": "2022-04-12T02:20:16.164361",
   "version": "2.3.3"
  }
 },
 "nbformat": 4,
 "nbformat_minor": 5
}
